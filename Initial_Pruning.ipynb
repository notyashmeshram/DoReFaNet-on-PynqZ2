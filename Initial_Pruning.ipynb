{
  "cells": [
    {
      "cell_type": "code",
      "execution_count": null,
      "metadata": {
        "id": "hGjLiEM_Hep_",
        "colab": {
          "base_uri": "https://localhost:8080/"
        },
        "outputId": "1ed1f9b6-a02b-4bf4-9a86-2e2e956e8ded"
      },
      "outputs": [
        {
          "output_type": "stream",
          "name": "stdout",
          "text": [
            "Collecting datasets\n",
            "  Downloading datasets-2.17.1-py3-none-any.whl (536 kB)\n",
            "\u001b[2K     \u001b[90m━━━━━━━━━━━━━━━━━━━━━━━━━━━━━━━━━━━━━━━━\u001b[0m \u001b[32m536.7/536.7 kB\u001b[0m \u001b[31m9.9 MB/s\u001b[0m eta \u001b[36m0:00:00\u001b[0m\n",
            "\u001b[?25hRequirement already satisfied: filelock in /usr/local/lib/python3.10/dist-packages (from datasets) (3.13.1)\n",
            "Requirement already satisfied: numpy>=1.17 in /usr/local/lib/python3.10/dist-packages (from datasets) (1.25.2)\n",
            "Requirement already satisfied: pyarrow>=12.0.0 in /usr/local/lib/python3.10/dist-packages (from datasets) (14.0.2)\n",
            "Requirement already satisfied: pyarrow-hotfix in /usr/local/lib/python3.10/dist-packages (from datasets) (0.6)\n",
            "Collecting dill<0.3.9,>=0.3.0 (from datasets)\n",
            "  Downloading dill-0.3.8-py3-none-any.whl (116 kB)\n",
            "\u001b[2K     \u001b[90m━━━━━━━━━━━━━━━━━━━━━━━━━━━━━━━━━━━━━━━━\u001b[0m \u001b[32m116.3/116.3 kB\u001b[0m \u001b[31m10.6 MB/s\u001b[0m eta \u001b[36m0:00:00\u001b[0m\n",
            "\u001b[?25hRequirement already satisfied: pandas in /usr/local/lib/python3.10/dist-packages (from datasets) (1.5.3)\n",
            "Requirement already satisfied: requests>=2.19.0 in /usr/local/lib/python3.10/dist-packages (from datasets) (2.31.0)\n",
            "Requirement already satisfied: tqdm>=4.62.1 in /usr/local/lib/python3.10/dist-packages (from datasets) (4.66.2)\n",
            "Requirement already satisfied: xxhash in /usr/local/lib/python3.10/dist-packages (from datasets) (3.4.1)\n",
            "Collecting multiprocess (from datasets)\n",
            "  Downloading multiprocess-0.70.16-py310-none-any.whl (134 kB)\n",
            "\u001b[2K     \u001b[90m━━━━━━━━━━━━━━━━━━━━━━━━━━━━━━━━━━━━━━━━\u001b[0m \u001b[32m134.8/134.8 kB\u001b[0m \u001b[31m12.1 MB/s\u001b[0m eta \u001b[36m0:00:00\u001b[0m\n",
            "\u001b[?25hRequirement already satisfied: fsspec[http]<=2023.10.0,>=2023.1.0 in /usr/local/lib/python3.10/dist-packages (from datasets) (2023.6.0)\n",
            "Requirement already satisfied: aiohttp in /usr/local/lib/python3.10/dist-packages (from datasets) (3.9.3)\n",
            "Requirement already satisfied: huggingface-hub>=0.19.4 in /usr/local/lib/python3.10/dist-packages (from datasets) (0.20.3)\n",
            "Requirement already satisfied: packaging in /usr/local/lib/python3.10/dist-packages (from datasets) (23.2)\n",
            "Requirement already satisfied: pyyaml>=5.1 in /usr/local/lib/python3.10/dist-packages (from datasets) (6.0.1)\n",
            "Requirement already satisfied: aiosignal>=1.1.2 in /usr/local/lib/python3.10/dist-packages (from aiohttp->datasets) (1.3.1)\n",
            "Requirement already satisfied: attrs>=17.3.0 in /usr/local/lib/python3.10/dist-packages (from aiohttp->datasets) (23.2.0)\n",
            "Requirement already satisfied: frozenlist>=1.1.1 in /usr/local/lib/python3.10/dist-packages (from aiohttp->datasets) (1.4.1)\n",
            "Requirement already satisfied: multidict<7.0,>=4.5 in /usr/local/lib/python3.10/dist-packages (from aiohttp->datasets) (6.0.5)\n",
            "Requirement already satisfied: yarl<2.0,>=1.0 in /usr/local/lib/python3.10/dist-packages (from aiohttp->datasets) (1.9.4)\n",
            "Requirement already satisfied: async-timeout<5.0,>=4.0 in /usr/local/lib/python3.10/dist-packages (from aiohttp->datasets) (4.0.3)\n",
            "Requirement already satisfied: typing-extensions>=3.7.4.3 in /usr/local/lib/python3.10/dist-packages (from huggingface-hub>=0.19.4->datasets) (4.9.0)\n",
            "Requirement already satisfied: charset-normalizer<4,>=2 in /usr/local/lib/python3.10/dist-packages (from requests>=2.19.0->datasets) (3.3.2)\n",
            "Requirement already satisfied: idna<4,>=2.5 in /usr/local/lib/python3.10/dist-packages (from requests>=2.19.0->datasets) (3.6)\n",
            "Requirement already satisfied: urllib3<3,>=1.21.1 in /usr/local/lib/python3.10/dist-packages (from requests>=2.19.0->datasets) (2.0.7)\n",
            "Requirement already satisfied: certifi>=2017.4.17 in /usr/local/lib/python3.10/dist-packages (from requests>=2.19.0->datasets) (2024.2.2)\n",
            "Requirement already satisfied: python-dateutil>=2.8.1 in /usr/local/lib/python3.10/dist-packages (from pandas->datasets) (2.8.2)\n",
            "Requirement already satisfied: pytz>=2020.1 in /usr/local/lib/python3.10/dist-packages (from pandas->datasets) (2023.4)\n",
            "Requirement already satisfied: six>=1.5 in /usr/local/lib/python3.10/dist-packages (from python-dateutil>=2.8.1->pandas->datasets) (1.16.0)\n",
            "Installing collected packages: dill, multiprocess, datasets\n",
            "Successfully installed datasets-2.17.1 dill-0.3.8 multiprocess-0.70.16\n",
            "Requirement already satisfied: torchvision in /usr/local/lib/python3.10/dist-packages (0.16.0+cu121)\n",
            "Requirement already satisfied: numpy in /usr/local/lib/python3.10/dist-packages (from torchvision) (1.25.2)\n",
            "Requirement already satisfied: requests in /usr/local/lib/python3.10/dist-packages (from torchvision) (2.31.0)\n",
            "Requirement already satisfied: torch==2.1.0 in /usr/local/lib/python3.10/dist-packages (from torchvision) (2.1.0+cu121)\n",
            "Requirement already satisfied: pillow!=8.3.*,>=5.3.0 in /usr/local/lib/python3.10/dist-packages (from torchvision) (9.4.0)\n",
            "Requirement already satisfied: filelock in /usr/local/lib/python3.10/dist-packages (from torch==2.1.0->torchvision) (3.13.1)\n",
            "Requirement already satisfied: typing-extensions in /usr/local/lib/python3.10/dist-packages (from torch==2.1.0->torchvision) (4.9.0)\n",
            "Requirement already satisfied: sympy in /usr/local/lib/python3.10/dist-packages (from torch==2.1.0->torchvision) (1.12)\n",
            "Requirement already satisfied: networkx in /usr/local/lib/python3.10/dist-packages (from torch==2.1.0->torchvision) (3.2.1)\n",
            "Requirement already satisfied: jinja2 in /usr/local/lib/python3.10/dist-packages (from torch==2.1.0->torchvision) (3.1.3)\n",
            "Requirement already satisfied: fsspec in /usr/local/lib/python3.10/dist-packages (from torch==2.1.0->torchvision) (2023.6.0)\n",
            "Requirement already satisfied: triton==2.1.0 in /usr/local/lib/python3.10/dist-packages (from torch==2.1.0->torchvision) (2.1.0)\n",
            "Requirement already satisfied: charset-normalizer<4,>=2 in /usr/local/lib/python3.10/dist-packages (from requests->torchvision) (3.3.2)\n",
            "Requirement already satisfied: idna<4,>=2.5 in /usr/local/lib/python3.10/dist-packages (from requests->torchvision) (3.6)\n",
            "Requirement already satisfied: urllib3<3,>=1.21.1 in /usr/local/lib/python3.10/dist-packages (from requests->torchvision) (2.0.7)\n",
            "Requirement already satisfied: certifi>=2017.4.17 in /usr/local/lib/python3.10/dist-packages (from requests->torchvision) (2024.2.2)\n",
            "Requirement already satisfied: MarkupSafe>=2.0 in /usr/local/lib/python3.10/dist-packages (from jinja2->torch==2.1.0->torchvision) (2.1.5)\n",
            "Requirement already satisfied: mpmath>=0.19 in /usr/local/lib/python3.10/dist-packages (from sympy->torch==2.1.0->torchvision) (1.3.0)\n",
            "Collecting torchmetrics\n",
            "  Downloading torchmetrics-1.3.1-py3-none-any.whl (840 kB)\n",
            "\u001b[2K     \u001b[90m━━━━━━━━━━━━━━━━━━━━━━━━━━━━━━━━━━━━━━━━\u001b[0m \u001b[32m840.4/840.4 kB\u001b[0m \u001b[31m9.7 MB/s\u001b[0m eta \u001b[36m0:00:00\u001b[0m\n",
            "\u001b[?25hRequirement already satisfied: numpy>1.20.0 in /usr/local/lib/python3.10/dist-packages (from torchmetrics) (1.25.2)\n",
            "Requirement already satisfied: packaging>17.1 in /usr/local/lib/python3.10/dist-packages (from torchmetrics) (23.2)\n",
            "Requirement already satisfied: torch>=1.10.0 in /usr/local/lib/python3.10/dist-packages (from torchmetrics) (2.1.0+cu121)\n",
            "Collecting lightning-utilities>=0.8.0 (from torchmetrics)\n",
            "  Downloading lightning_utilities-0.10.1-py3-none-any.whl (24 kB)\n",
            "Requirement already satisfied: setuptools in /usr/local/lib/python3.10/dist-packages (from lightning-utilities>=0.8.0->torchmetrics) (67.7.2)\n",
            "Requirement already satisfied: typing-extensions in /usr/local/lib/python3.10/dist-packages (from lightning-utilities>=0.8.0->torchmetrics) (4.9.0)\n",
            "Requirement already satisfied: filelock in /usr/local/lib/python3.10/dist-packages (from torch>=1.10.0->torchmetrics) (3.13.1)\n",
            "Requirement already satisfied: sympy in /usr/local/lib/python3.10/dist-packages (from torch>=1.10.0->torchmetrics) (1.12)\n",
            "Requirement already satisfied: networkx in /usr/local/lib/python3.10/dist-packages (from torch>=1.10.0->torchmetrics) (3.2.1)\n",
            "Requirement already satisfied: jinja2 in /usr/local/lib/python3.10/dist-packages (from torch>=1.10.0->torchmetrics) (3.1.3)\n",
            "Requirement already satisfied: fsspec in /usr/local/lib/python3.10/dist-packages (from torch>=1.10.0->torchmetrics) (2023.6.0)\n",
            "Requirement already satisfied: triton==2.1.0 in /usr/local/lib/python3.10/dist-packages (from torch>=1.10.0->torchmetrics) (2.1.0)\n",
            "Requirement already satisfied: MarkupSafe>=2.0 in /usr/local/lib/python3.10/dist-packages (from jinja2->torch>=1.10.0->torchmetrics) (2.1.5)\n",
            "Requirement already satisfied: mpmath>=0.19 in /usr/local/lib/python3.10/dist-packages (from sympy->torch>=1.10.0->torchmetrics) (1.3.0)\n",
            "Installing collected packages: lightning-utilities, torchmetrics\n",
            "Successfully installed lightning-utilities-0.10.1 torchmetrics-1.3.1\n"
          ]
        }
      ],
      "source": [
        "!pip install datasets\n",
        "!pip install torchvision\n",
        "!pip install torchmetrics"
      ]
    },
    {
      "cell_type": "code",
      "execution_count": null,
      "metadata": {
        "id": "J8f-g0oDEfzj"
      },
      "outputs": [],
      "source": [
        "import torch\n",
        "import matplotlib.pyplot as plt\n",
        "from datasets import load_dataset\n",
        "import numpy as np\n",
        "import torchvision\n",
        "import torch.nn as nn\n",
        "import torchmetrics"
      ]
    },
    {
      "cell_type": "code",
      "source": [
        "from google.colab import drive\n",
        "drive.mount('/content/drive')"
      ],
      "metadata": {
        "colab": {
          "base_uri": "https://localhost:8080/"
        },
        "id": "pIxe03fnSLR5",
        "outputId": "2469cba3-13d2-4e74-be30-2a5b6b6d9cc8"
      },
      "execution_count": null,
      "outputs": [
        {
          "output_type": "stream",
          "name": "stdout",
          "text": [
            "Mounted at /content/drive\n"
          ]
        }
      ]
    },
    {
      "cell_type": "code",
      "execution_count": null,
      "metadata": {
        "colab": {
          "base_uri": "https://localhost:8080/",
          "height": 333,
          "referenced_widgets": [
            "fc9bb3f0448d4190b5e3eb3870fdc931",
            "fae84a88d2c2471f93f04eec01f70195",
            "ba58ae9cf6db4e128880d27dd3d4892c",
            "c9034beaa67e441f89ee8f0f2280f338",
            "a21d5167fab645a2a325ec80a03ecb26",
            "d8f972ca79394ce69aeae5fa15a112c9",
            "47eb9261482b4d0fbef175eae2ea8616",
            "4c972b8304e2473698e829c1da2fdab1",
            "e38ad1cac12a4e428774aea3e5a532e2",
            "d391ef3290944da5804737aaabed5728",
            "fe116c3679b54ad5b6b22c086df9c6a9",
            "aed7776f8a864079b33ab39675d0a426",
            "4cfbee0144904d8991f1b1922bc79895",
            "7889bb99ff764476a779b638ac98cd93",
            "5a078884096b4ed595f137005669047e",
            "91fd51e28ac945be9ccaa076eed61077",
            "559683410d21423d947e6a9a70feb720",
            "e5a23b72b8094111a25bbf6868c698ce",
            "7507ebec408c4e32a89ce7d47df577ae",
            "5cc2bcca7c5647898f870edf89598b74",
            "e736b7c98ad440d489acfb9016dba35b",
            "f3bcbc66858042b381acf701cc078029",
            "572e5cf68c4646768561bd4ab5e3e273",
            "1cea9c68fb00491f95195b1466f68312",
            "52d99a273eb04cb8a93bb5638689cb51",
            "b0dab4f0cec44f459f2acfa2caceb596",
            "a245bdf9ca434dfc96da4dee3f172783",
            "51c843e30ea14000a6d53a8786307bba",
            "4a50ff8c06c44841b81a77a4e1f08e45",
            "e8477f2146a147feb3e793535bb2338c",
            "c185e182fde2494d92e796b797ed9012",
            "ca3073cadf654d7fb0a21ed23c479e00",
            "884f81f096ad4cc5b580d9d0d9d33600",
            "eef2f4e9a60d4d76a2cb080e87fd622e",
            "4217a8fe7617409abc4515a73103ebe6",
            "78eea227fb124385b9f1d37173ff6e94",
            "d206e7b39958411c8b2472dfbd7aa445",
            "d0ee1d691db246adb7a441c65bc02510",
            "e33961b4a34448a39241d0ae4bab14ef",
            "aaf63f4474dd4c3397d4d9b10722473f",
            "99a903b538a74d4aa29548230589159c",
            "653786e6acf744ffa3f296579b02b848",
            "79a749226cd74f998282c4ac5df5f1aa",
            "aa87f7cbc7b94a9195a5933062d33d26",
            "a21a6addf79c4e62883ae978284203a2",
            "19c22ea1b56f4c5a8c2dcc1ee1a2b263",
            "bf7da0288f1e4cdd85fb90284359d4fb",
            "11476024d5154973aef4a942f7f03537",
            "506db66fb7624a3688fa16e6a92e143e",
            "75f2fc23af5a44e9bd52569481633ad0",
            "985dd2565015474d88e2c20420216ad2",
            "7b6f8db9166940fb8ffbb3d69fbc9e71",
            "e7428f109da84f4bb41bfc703b4c0569",
            "034468a7131e4689b151cb1d291b3ad3",
            "40cc8223955c4678be25eb4d56f7b4f0",
            "ca10cd85409849029c4f78af6fb6d2ee",
            "b5ad4d4531694dd4bdc2e7a44236601d",
            "96883af34e3748dca97d7c94757c0f41",
            "f15ddf920f774e688927a524648479b7",
            "72a752c47159452c82c4de9612056243",
            "bc9d4cb3a09143d1abb0284c172126a6",
            "1d0aa68da1454e699a98b1384a496f8f",
            "fae1516c9bf648aa86e63eec6c617ab4",
            "807768741e13476fbf805af2246d2cb8",
            "9d23c75bcd4f4d14a49862e4251656a6",
            "23d8901c8c464f6796d3a3243c9a88a9"
          ]
        },
        "id": "wGlQqid7EsCx",
        "outputId": "4dea8e78-725d-4006-835d-3251ba4d2b0c"
      },
      "outputs": [
        {
          "output_type": "stream",
          "name": "stderr",
          "text": [
            "/usr/local/lib/python3.10/dist-packages/huggingface_hub/utils/_token.py:88: UserWarning: \n",
            "The secret `HF_TOKEN` does not exist in your Colab secrets.\n",
            "To authenticate with the Hugging Face Hub, create a token in your settings tab (https://huggingface.co/settings/tokens), set it as secret in your Google Colab and restart your session.\n",
            "You will be able to reuse this secret in all of your notebooks.\n",
            "Please note that authentication is recommended but still optional to access public models or datasets.\n",
            "  warnings.warn(\n"
          ]
        },
        {
          "output_type": "display_data",
          "data": {
            "text/plain": [
              "Downloading readme:   0%|          | 0.00/3.90k [00:00<?, ?B/s]"
            ],
            "application/vnd.jupyter.widget-view+json": {
              "version_major": 2,
              "version_minor": 0,
              "model_id": "fc9bb3f0448d4190b5e3eb3870fdc931"
            }
          },
          "metadata": {}
        },
        {
          "output_type": "display_data",
          "data": {
            "text/plain": [
              "Downloading metadata:   0%|          | 0.00/3.52k [00:00<?, ?B/s]"
            ],
            "application/vnd.jupyter.widget-view+json": {
              "version_major": 2,
              "version_minor": 0,
              "model_id": "aed7776f8a864079b33ab39675d0a426"
            }
          },
          "metadata": {}
        },
        {
          "output_type": "display_data",
          "data": {
            "text/plain": [
              "Downloading data:   0%|          | 0.00/146M [00:00<?, ?B/s]"
            ],
            "application/vnd.jupyter.widget-view+json": {
              "version_major": 2,
              "version_minor": 0,
              "model_id": "572e5cf68c4646768561bd4ab5e3e273"
            }
          },
          "metadata": {}
        },
        {
          "output_type": "display_data",
          "data": {
            "text/plain": [
              "Downloading data:   0%|          | 0.00/14.6M [00:00<?, ?B/s]"
            ],
            "application/vnd.jupyter.widget-view+json": {
              "version_major": 2,
              "version_minor": 0,
              "model_id": "eef2f4e9a60d4d76a2cb080e87fd622e"
            }
          },
          "metadata": {}
        },
        {
          "output_type": "display_data",
          "data": {
            "text/plain": [
              "Generating train split:   0%|          | 0/100000 [00:00<?, ? examples/s]"
            ],
            "application/vnd.jupyter.widget-view+json": {
              "version_major": 2,
              "version_minor": 0,
              "model_id": "a21a6addf79c4e62883ae978284203a2"
            }
          },
          "metadata": {}
        },
        {
          "output_type": "display_data",
          "data": {
            "text/plain": [
              "Generating valid split:   0%|          | 0/10000 [00:00<?, ? examples/s]"
            ],
            "application/vnd.jupyter.widget-view+json": {
              "version_major": 2,
              "version_minor": 0,
              "model_id": "ca10cd85409849029c4f78af6fb6d2ee"
            }
          },
          "metadata": {}
        }
      ],
      "source": [
        "tiny_imagenet = load_dataset('Maysee/tiny-imagenet', split='train')"
      ]
    },
    {
      "cell_type": "code",
      "execution_count": null,
      "metadata": {
        "colab": {
          "base_uri": "https://localhost:8080/"
        },
        "id": "hXRDB0sPS4cz",
        "outputId": "396ed7d8-62b1-42dc-cd28-912c14a61fff"
      },
      "outputs": [
        {
          "output_type": "execute_result",
          "data": {
            "text/plain": [
              "Dataset({\n",
              "    features: ['image', 'label'],\n",
              "    num_rows: 100000\n",
              "})"
            ]
          },
          "metadata": {},
          "execution_count": 5
        }
      ],
      "source": [
        "tiny_imagenet"
      ]
    },
    {
      "cell_type": "code",
      "execution_count": null,
      "metadata": {
        "colab": {
          "base_uri": "https://localhost:8080/",
          "height": 81
        },
        "id": "s5SlZaJznI17",
        "outputId": "11e72f63-4ed2-4732-bcff-a4626757b7a2"
      },
      "outputs": [
        {
          "output_type": "execute_result",
          "data": {
            "text/plain": [
              "<PIL.JpegImagePlugin.JpegImageFile image mode=RGB size=64x64>"
            ],
            "image/png": "[encoded data removed]"
          },
          "metadata": {},
          "execution_count": 6
        }
      ],
      "source": [
        "\n",
        "# num=np.random.randint(0,10000)\n",
        "tiny_imagenet[100]['image']"
      ]
    },
    {
      "cell_type": "code",
      "execution_count": null,
      "metadata": {
        "id": "7k3dccIBHGeW"
      },
      "outputs": [],
      "source": [
        "# num_rows = tiny_imagenet.num_rows\n",
        "num_rows=7500\n",
        "images = []\n",
        "\n",
        "for row in range(num_rows):\n",
        "    image_pil = tiny_imagenet[row]['image']\n",
        "\n",
        "    image_array = np.array(image_pil)\n",
        "\n",
        "    images.append(image_array)"
      ]
    },
    {
      "cell_type": "code",
      "execution_count": null,
      "metadata": {
        "colab": {
          "base_uri": "https://localhost:8080/"
        },
        "id": "yZ1lnZCkSh0i",
        "outputId": "797f0d50-cb30-4a5e-fd89-74ff11573cf6"
      },
      "outputs": [
        {
          "output_type": "execute_result",
          "data": {
            "text/plain": [
              "7500"
            ]
          },
          "metadata": {},
          "execution_count": 8
        }
      ],
      "source": [
        "len(images)"
      ]
    },
    {
      "cell_type": "code",
      "execution_count": null,
      "metadata": {
        "colab": {
          "base_uri": "https://localhost:8080/"
        },
        "id": "vE9Ps35VJ20_",
        "outputId": "b95cfd90-286a-4de1-cc85-3e7ef56db612"
      },
      "outputs": [
        {
          "output_type": "execute_result",
          "data": {
            "text/plain": [
              "array([  0,   1,   2,   3,   4,   5,   6,   7,   8,   9,  10,  11,  12,\n",
              "        13,  14,  15,  16,  17,  18,  19,  20,  21,  22,  23,  24,  25,\n",
              "        26,  27,  28,  29,  30,  31,  32,  33,  34,  35,  36,  37,  38,\n",
              "        39,  40,  41,  42,  43,  44,  45,  46,  47,  48,  49,  50,  51,\n",
              "        52,  53,  54,  55,  56,  57,  58,  59,  60,  61,  62,  63,  64,\n",
              "        65,  66,  67,  68,  69,  70,  71,  72,  73,  74,  75,  76,  77,\n",
              "        78,  79,  80,  81,  82,  83,  84,  85,  86,  87,  88,  89,  90,\n",
              "        91,  92,  93,  94,  95,  96,  97,  98,  99, 100, 101, 102, 103,\n",
              "       104, 105, 106, 107, 108, 109, 110, 111, 112, 113, 114, 115, 116,\n",
              "       117, 118, 119, 120, 121, 122, 123, 124, 125, 126, 127, 128, 129,\n",
              "       130, 131, 132, 133, 134, 135, 136, 137, 138, 139, 140, 141, 142,\n",
              "       143, 144, 145, 146, 147, 148, 149, 150, 151, 152, 153, 154, 155,\n",
              "       156, 157, 158, 159, 160, 161, 162, 163, 164, 165, 166, 167, 168,\n",
              "       169, 170, 171, 172, 173, 174, 175, 176, 177, 178, 179, 180, 181,\n",
              "       182, 183, 184, 185, 186, 187, 188, 189, 190, 191, 192, 193, 194,\n",
              "       195, 196, 197, 198, 199])"
            ]
          },
          "metadata": {},
          "execution_count": 9
        }
      ],
      "source": [
        "y=np.array(tiny_imagenet['label'])\n",
        "np.unique(y)"
      ]
    },
    {
      "cell_type": "code",
      "execution_count": null,
      "metadata": {
        "colab": {
          "base_uri": "https://localhost:8080/"
        },
        "id": "prdDEMUAKXyG",
        "outputId": "9351732a-1b22-4a4b-9352-8af42763e8df"
      },
      "outputs": [
        {
          "output_type": "execute_result",
          "data": {
            "text/plain": [
              "(100000,)"
            ]
          },
          "metadata": {},
          "execution_count": 10
        }
      ],
      "source": [
        "y.shape"
      ]
    },
    {
      "cell_type": "code",
      "execution_count": null,
      "metadata": {
        "id": "BKefeY0od3ST"
      },
      "outputs": [],
      "source": [
        "X=[]\n",
        "label=[]\n",
        "for i in range(0,len(images)):\n",
        "  if images[i].shape==(64, 64, 3):\n",
        "    X.append(images[i])\n",
        "    label.append(y[i])\n",
        "\n",
        "\n",
        "X=np.array(X)\n",
        "label=np.array(label)"
      ]
    },
    {
      "cell_type": "code",
      "execution_count": null,
      "metadata": {
        "colab": {
          "base_uri": "https://localhost:8080/"
        },
        "id": "SCAeVwHJeBdT",
        "outputId": "af8c28f8-68e4-42b8-92d4-77ee74f1c7aa"
      },
      "outputs": [
        {
          "output_type": "execute_result",
          "data": {
            "text/plain": [
              "((7466, 64, 64, 3), (7466,))"
            ]
          },
          "metadata": {},
          "execution_count": 12
        }
      ],
      "source": [
        "X.shape,label.shape"
      ]
    },
    {
      "cell_type": "code",
      "execution_count": null,
      "metadata": {
        "id": "AzTF7FyXfIm9"
      },
      "outputs": [],
      "source": [
        "#converting to tenosrs\n",
        "X=torch.FloatTensor(X)\n",
        "label=torch.LongTensor(label)"
      ]
    },
    {
      "cell_type": "code",
      "execution_count": null,
      "metadata": {
        "colab": {
          "base_uri": "https://localhost:8080/"
        },
        "id": "M2thMsLxfjYU",
        "outputId": "0106f149-0345-47bb-cd0c-9317a09a230d"
      },
      "outputs": [
        {
          "output_type": "execute_result",
          "data": {
            "text/plain": [
              "(torch.Size([7466, 64, 64, 3]), torch.Size([7466]))"
            ]
          },
          "metadata": {},
          "execution_count": 14
        }
      ],
      "source": [
        "X.shape,label.shape"
      ]
    },
    {
      "cell_type": "code",
      "source": [
        "import torch.nn as nn\n",
        "num_classes=200\n",
        "classifier=nn.Sequential(\n",
        "    nn.Linear(1000,512),\n",
        "    nn.ReLU(),\n",
        "    nn.Linear(512,num_classes),\n",
        "    nn.Softmax(dim=1)\n",
        ")\n",
        "\n",
        "class custom_model(nn.Module):\n",
        "  def __init__(self,model,classifier):\n",
        "    super().__init__()\n",
        "    self.m1=model\n",
        "    self.m2=classifier\n",
        "  def forward(self,x):\n",
        "    x=self.m1(x).logits\n",
        "    x=self.m2(x)\n",
        "\n",
        "    return x\n",
        "\n"
      ],
      "metadata": {
        "id": "1bFjxb3PTLV5"
      },
      "execution_count": null,
      "outputs": []
    },
    {
      "cell_type": "code",
      "source": [
        "new_model=torch.load(\"/content/drive/MyDrive/ED Lab/finetuned_model.pt\")"
      ],
      "metadata": {
        "id": "m1Ho_YqCSGr3"
      },
      "execution_count": null,
      "outputs": []
    },
    {
      "cell_type": "code",
      "execution_count": null,
      "metadata": {
        "colab": {
          "base_uri": "https://localhost:8080/"
        },
        "id": "hxRplzUVgNca",
        "outputId": "cc02b623-da89-486d-f908-6e381e413c5f"
      },
      "outputs": [
        {
          "output_type": "stream",
          "name": "stdout",
          "text": [
            "custom_model(\n",
            "  (m1): ResNetForImageClassification(\n",
            "    (resnet): ResNetModel(\n",
            "      (embedder): ResNetEmbeddings(\n",
            "        (embedder): ResNetConvLayer(\n",
            "          (convolution): Conv2d(3, 64, kernel_size=(7, 7), stride=(2, 2), padding=(3, 3), bias=False)\n",
            "          (normalization): BatchNorm2d(64, eps=1e-05, momentum=0.1, affine=True, track_running_stats=True)\n",
            "          (activation): ReLU()\n",
            "        )\n",
            "        (pooler): MaxPool2d(kernel_size=3, stride=2, padding=1, dilation=1, ceil_mode=False)\n",
            "      )\n",
            "      (encoder): ResNetEncoder(\n",
            "        (stages): ModuleList(\n",
            "          (0): ResNetStage(\n",
            "            (layers): Sequential(\n",
            "              (0): ResNetBasicLayer(\n",
            "                (shortcut): Identity()\n",
            "                (layer): Sequential(\n",
            "                  (0): ResNetConvLayer(\n",
            "                    (convolution): Conv2d(64, 64, kernel_size=(3, 3), stride=(1, 1), padding=(1, 1), bias=False)\n",
            "                    (normalization): BatchNorm2d(64, eps=1e-05, momentum=0.1, affine=True, track_running_stats=True)\n",
            "                    (activation): ReLU()\n",
            "                  )\n",
            "                  (1): ResNetConvLayer(\n",
            "                    (convolution): Conv2d(64, 64, kernel_size=(3, 3), stride=(1, 1), padding=(1, 1), bias=False)\n",
            "                    (normalization): BatchNorm2d(64, eps=1e-05, momentum=0.1, affine=True, track_running_stats=True)\n",
            "                    (activation): Identity()\n",
            "                  )\n",
            "                )\n",
            "                (activation): ReLU()\n",
            "              )\n",
            "              (1): ResNetBasicLayer(\n",
            "                (shortcut): Identity()\n",
            "                (layer): Sequential(\n",
            "                  (0): ResNetConvLayer(\n",
            "                    (convolution): Conv2d(64, 64, kernel_size=(3, 3), stride=(1, 1), padding=(1, 1), bias=False)\n",
            "                    (normalization): BatchNorm2d(64, eps=1e-05, momentum=0.1, affine=True, track_running_stats=True)\n",
            "                    (activation): ReLU()\n",
            "                  )\n",
            "                  (1): ResNetConvLayer(\n",
            "                    (convolution): Conv2d(64, 64, kernel_size=(3, 3), stride=(1, 1), padding=(1, 1), bias=False)\n",
            "                    (normalization): BatchNorm2d(64, eps=1e-05, momentum=0.1, affine=True, track_running_stats=True)\n",
            "                    (activation): Identity()\n",
            "                  )\n",
            "                )\n",
            "                (activation): ReLU()\n",
            "              )\n",
            "            )\n",
            "          )\n",
            "          (1): ResNetStage(\n",
            "            (layers): Sequential(\n",
            "              (0): ResNetBasicLayer(\n",
            "                (shortcut): ResNetShortCut(\n",
            "                  (convolution): Conv2d(64, 128, kernel_size=(1, 1), stride=(2, 2), bias=False)\n",
            "                  (normalization): BatchNorm2d(128, eps=1e-05, momentum=0.1, affine=True, track_running_stats=True)\n",
            "                )\n",
            "                (layer): Sequential(\n",
            "                  (0): ResNetConvLayer(\n",
            "                    (convolution): Conv2d(64, 128, kernel_size=(3, 3), stride=(2, 2), padding=(1, 1), bias=False)\n",
            "                    (normalization): BatchNorm2d(128, eps=1e-05, momentum=0.1, affine=True, track_running_stats=True)\n",
            "                    (activation): ReLU()\n",
            "                  )\n",
            "                  (1): ResNetConvLayer(\n",
            "                    (convolution): Conv2d(128, 128, kernel_size=(3, 3), stride=(1, 1), padding=(1, 1), bias=False)\n",
            "                    (normalization): BatchNorm2d(128, eps=1e-05, momentum=0.1, affine=True, track_running_stats=True)\n",
            "                    (activation): Identity()\n",
            "                  )\n",
            "                )\n",
            "                (activation): ReLU()\n",
            "              )\n",
            "              (1): ResNetBasicLayer(\n",
            "                (shortcut): Identity()\n",
            "                (layer): Sequential(\n",
            "                  (0): ResNetConvLayer(\n",
            "                    (convolution): Conv2d(128, 128, kernel_size=(3, 3), stride=(1, 1), padding=(1, 1), bias=False)\n",
            "                    (normalization): BatchNorm2d(128, eps=1e-05, momentum=0.1, affine=True, track_running_stats=True)\n",
            "                    (activation): ReLU()\n",
            "                  )\n",
            "                  (1): ResNetConvLayer(\n",
            "                    (convolution): Conv2d(128, 128, kernel_size=(3, 3), stride=(1, 1), padding=(1, 1), bias=False)\n",
            "                    (normalization): BatchNorm2d(128, eps=1e-05, momentum=0.1, affine=True, track_running_stats=True)\n",
            "                    (activation): Identity()\n",
            "                  )\n",
            "                )\n",
            "                (activation): ReLU()\n",
            "              )\n",
            "            )\n",
            "          )\n",
            "          (2): ResNetStage(\n",
            "            (layers): Sequential(\n",
            "              (0): ResNetBasicLayer(\n",
            "                (shortcut): ResNetShortCut(\n",
            "                  (convolution): Conv2d(128, 256, kernel_size=(1, 1), stride=(2, 2), bias=False)\n",
            "                  (normalization): BatchNorm2d(256, eps=1e-05, momentum=0.1, affine=True, track_running_stats=True)\n",
            "                )\n",
            "                (layer): Sequential(\n",
            "                  (0): ResNetConvLayer(\n",
            "                    (convolution): Conv2d(128, 256, kernel_size=(3, 3), stride=(2, 2), padding=(1, 1), bias=False)\n",
            "                    (normalization): BatchNorm2d(256, eps=1e-05, momentum=0.1, affine=True, track_running_stats=True)\n",
            "                    (activation): ReLU()\n",
            "                  )\n",
            "                  (1): ResNetConvLayer(\n",
            "                    (convolution): Conv2d(256, 256, kernel_size=(3, 3), stride=(1, 1), padding=(1, 1), bias=False)\n",
            "                    (normalization): BatchNorm2d(256, eps=1e-05, momentum=0.1, affine=True, track_running_stats=True)\n",
            "                    (activation): Identity()\n",
            "                  )\n",
            "                )\n",
            "                (activation): ReLU()\n",
            "              )\n",
            "              (1): ResNetBasicLayer(\n",
            "                (shortcut): Identity()\n",
            "                (layer): Sequential(\n",
            "                  (0): ResNetConvLayer(\n",
            "                    (convolution): Conv2d(256, 256, kernel_size=(3, 3), stride=(1, 1), padding=(1, 1), bias=False)\n",
            "                    (normalization): BatchNorm2d(256, eps=1e-05, momentum=0.1, affine=True, track_running_stats=True)\n",
            "                    (activation): ReLU()\n",
            "                  )\n",
            "                  (1): ResNetConvLayer(\n",
            "                    (convolution): Conv2d(256, 256, kernel_size=(3, 3), stride=(1, 1), padding=(1, 1), bias=False)\n",
            "                    (normalization): BatchNorm2d(256, eps=1e-05, momentum=0.1, affine=True, track_running_stats=True)\n",
            "                    (activation): Identity()\n",
            "                  )\n",
            "                )\n",
            "                (activation): ReLU()\n",
            "              )\n",
            "            )\n",
            "          )\n",
            "          (3): ResNetStage(\n",
            "            (layers): Sequential(\n",
            "              (0): ResNetBasicLayer(\n",
            "                (shortcut): ResNetShortCut(\n",
            "                  (convolution): Conv2d(256, 512, kernel_size=(1, 1), stride=(2, 2), bias=False)\n",
            "                  (normalization): BatchNorm2d(512, eps=1e-05, momentum=0.1, affine=True, track_running_stats=True)\n",
            "                )\n",
            "                (layer): Sequential(\n",
            "                  (0): ResNetConvLayer(\n",
            "                    (convolution): Conv2d(256, 512, kernel_size=(3, 3), stride=(2, 2), padding=(1, 1), bias=False)\n",
            "                    (normalization): BatchNorm2d(512, eps=1e-05, momentum=0.1, affine=True, track_running_stats=True)\n",
            "                    (activation): ReLU()\n",
            "                  )\n",
            "                  (1): ResNetConvLayer(\n",
            "                    (convolution): Conv2d(512, 512, kernel_size=(3, 3), stride=(1, 1), padding=(1, 1), bias=False)\n",
            "                    (normalization): BatchNorm2d(512, eps=1e-05, momentum=0.1, affine=True, track_running_stats=True)\n",
            "                    (activation): Identity()\n",
            "                  )\n",
            "                )\n",
            "                (activation): ReLU()\n",
            "              )\n",
            "              (1): ResNetBasicLayer(\n",
            "                (shortcut): Identity()\n",
            "                (layer): Sequential(\n",
            "                  (0): ResNetConvLayer(\n",
            "                    (convolution): Conv2d(512, 512, kernel_size=(3, 3), stride=(1, 1), padding=(1, 1), bias=False)\n",
            "                    (normalization): BatchNorm2d(512, eps=1e-05, momentum=0.1, affine=True, track_running_stats=True)\n",
            "                    (activation): ReLU()\n",
            "                  )\n",
            "                  (1): ResNetConvLayer(\n",
            "                    (convolution): Conv2d(512, 512, kernel_size=(3, 3), stride=(1, 1), padding=(1, 1), bias=False)\n",
            "                    (normalization): BatchNorm2d(512, eps=1e-05, momentum=0.1, affine=True, track_running_stats=True)\n",
            "                    (activation): Identity()\n",
            "                  )\n",
            "                )\n",
            "                (activation): ReLU()\n",
            "              )\n",
            "            )\n",
            "          )\n",
            "        )\n",
            "      )\n",
            "      (pooler): AdaptiveAvgPool2d(output_size=(1, 1))\n",
            "    )\n",
            "    (classifier): Sequential(\n",
            "      (0): Flatten(start_dim=1, end_dim=-1)\n",
            "      (1): Linear(in_features=512, out_features=1000, bias=True)\n",
            "    )\n",
            "  )\n",
            "  (m2): Sequential(\n",
            "    (0): Linear(in_features=1000, out_features=512, bias=True)\n",
            "    (1): ReLU()\n",
            "    (2): Linear(in_features=512, out_features=200, bias=True)\n",
            "    (3): Softmax(dim=1)\n",
            "  )\n",
            ")\n"
          ]
        }
      ],
      "source": [
        "print(new_model)"
      ]
    },
    {
      "cell_type": "code",
      "execution_count": null,
      "metadata": {
        "id": "jqyf9SeZo2dL"
      },
      "outputs": [],
      "source": [
        "for param in new_model.m1.parameters():\n",
        "    param.requires_grad = False\n",
        "\n",
        "for param in new_model.m2.parameters():\n",
        "    param.requires_grad = True"
      ]
    },
    {
      "cell_type": "code",
      "execution_count": null,
      "metadata": {
        "colab": {
          "base_uri": "https://localhost:8080/"
        },
        "id": "x1qyO0EehQgC",
        "outputId": "6b1aedd0-31fc-4160-c914-1a0ab73420fe"
      },
      "outputs": [
        {
          "output_type": "stream",
          "name": "stdout",
          "text": [
            "Total number of parameters:12304624, Total number of trainable parameters:615112\n"
          ]
        }
      ],
      "source": [
        "tt_p=sum(p.numel() for p in new_model.parameters() if p.requires_grad)\n",
        "t_p=sum(p.numel() for p in new_model.parameters())\n",
        "print(f'Total number of parameters:{t_p}, Total number of trainable parameters:{tt_p}')"
      ]
    },
    {
      "cell_type": "code",
      "execution_count": null,
      "metadata": {
        "id": "nwRigZsiNm--"
      },
      "outputs": [],
      "source": [
        "parameter_names = [(name, 'weight') for name, module in new_model.named_modules() if isinstance(module, torch.nn.Conv2d) or isinstance(module, torch.nn.Linear)]"
      ]
    },
    {
      "cell_type": "code",
      "execution_count": null,
      "metadata": {
        "colab": {
          "base_uri": "https://localhost:8080/"
        },
        "id": "RVqQhtn3TuOI",
        "outputId": "1f22b97b-32ea-47f8-fce3-1ff65eef15f5"
      },
      "outputs": [
        {
          "output_type": "execute_result",
          "data": {
            "text/plain": [
              "[('m1.resnet.embedder.embedder.convolution', 'weight'),\n",
              " ('m1.resnet.encoder.stages.0.layers.0.layer.0.convolution', 'weight'),\n",
              " ('m1.resnet.encoder.stages.0.layers.0.layer.1.convolution', 'weight'),\n",
              " ('m1.resnet.encoder.stages.0.layers.1.layer.0.convolution', 'weight'),\n",
              " ('m1.resnet.encoder.stages.0.layers.1.layer.1.convolution', 'weight'),\n",
              " ('m1.resnet.encoder.stages.1.layers.0.shortcut.convolution', 'weight'),\n",
              " ('m1.resnet.encoder.stages.1.layers.0.layer.0.convolution', 'weight'),\n",
              " ('m1.resnet.encoder.stages.1.layers.0.layer.1.convolution', 'weight'),\n",
              " ('m1.resnet.encoder.stages.1.layers.1.layer.0.convolution', 'weight'),\n",
              " ('m1.resnet.encoder.stages.1.layers.1.layer.1.convolution', 'weight'),\n",
              " ('m1.resnet.encoder.stages.2.layers.0.shortcut.convolution', 'weight'),\n",
              " ('m1.resnet.encoder.stages.2.layers.0.layer.0.convolution', 'weight'),\n",
              " ('m1.resnet.encoder.stages.2.layers.0.layer.1.convolution', 'weight'),\n",
              " ('m1.resnet.encoder.stages.2.layers.1.layer.0.convolution', 'weight'),\n",
              " ('m1.resnet.encoder.stages.2.layers.1.layer.1.convolution', 'weight'),\n",
              " ('m1.resnet.encoder.stages.3.layers.0.shortcut.convolution', 'weight'),\n",
              " ('m1.resnet.encoder.stages.3.layers.0.layer.0.convolution', 'weight'),\n",
              " ('m1.resnet.encoder.stages.3.layers.0.layer.1.convolution', 'weight'),\n",
              " ('m1.resnet.encoder.stages.3.layers.1.layer.0.convolution', 'weight'),\n",
              " ('m1.resnet.encoder.stages.3.layers.1.layer.1.convolution', 'weight'),\n",
              " ('m1.classifier.1', 'weight'),\n",
              " ('m2.0', 'weight'),\n",
              " ('m2.2', 'weight')]"
            ]
          },
          "metadata": {},
          "execution_count": 21
        }
      ],
      "source": [
        "parameter_names"
      ]
    },
    {
      "cell_type": "code",
      "execution_count": null,
      "metadata": {
        "id": "OSlpM8CRUHAv"
      },
      "outputs": [],
      "source": [
        "parameters_to_prune = []\n",
        "for name, value in parameter_names:\n",
        "    module_path = name.split('.')\n",
        "    module = new_model\n",
        "    for attr in module_path:\n",
        "        module = getattr(module, attr)\n",
        "\n",
        "\n",
        "    parameters_to_prune.append((module, value))"
      ]
    },
    {
      "cell_type": "code",
      "execution_count": null,
      "metadata": {
        "colab": {
          "base_uri": "https://localhost:8080/"
        },
        "id": "MYUSZGFlVKEA",
        "outputId": "ea2505d6-c1c8-497a-a315-7fd67ad63a61"
      },
      "outputs": [
        {
          "output_type": "execute_result",
          "data": {
            "text/plain": [
              "[(Conv2d(3, 64, kernel_size=(7, 7), stride=(2, 2), padding=(3, 3), bias=False),\n",
              "  'weight'),\n",
              " (Conv2d(64, 64, kernel_size=(3, 3), stride=(1, 1), padding=(1, 1), bias=False),\n",
              "  'weight'),\n",
              " (Conv2d(64, 64, kernel_size=(3, 3), stride=(1, 1), padding=(1, 1), bias=False),\n",
              "  'weight'),\n",
              " (Conv2d(64, 64, kernel_size=(3, 3), stride=(1, 1), padding=(1, 1), bias=False),\n",
              "  'weight'),\n",
              " (Conv2d(64, 64, kernel_size=(3, 3), stride=(1, 1), padding=(1, 1), bias=False),\n",
              "  'weight'),\n",
              " (Conv2d(64, 128, kernel_size=(1, 1), stride=(2, 2), bias=False), 'weight'),\n",
              " (Conv2d(64, 128, kernel_size=(3, 3), stride=(2, 2), padding=(1, 1), bias=False),\n",
              "  'weight'),\n",
              " (Conv2d(128, 128, kernel_size=(3, 3), stride=(1, 1), padding=(1, 1), bias=False),\n",
              "  'weight'),\n",
              " (Conv2d(128, 128, kernel_size=(3, 3), stride=(1, 1), padding=(1, 1), bias=False),\n",
              "  'weight'),\n",
              " (Conv2d(128, 128, kernel_size=(3, 3), stride=(1, 1), padding=(1, 1), bias=False),\n",
              "  'weight'),\n",
              " (Conv2d(128, 256, kernel_size=(1, 1), stride=(2, 2), bias=False), 'weight'),\n",
              " (Conv2d(128, 256, kernel_size=(3, 3), stride=(2, 2), padding=(1, 1), bias=False),\n",
              "  'weight'),\n",
              " (Conv2d(256, 256, kernel_size=(3, 3), stride=(1, 1), padding=(1, 1), bias=False),\n",
              "  'weight'),\n",
              " (Conv2d(256, 256, kernel_size=(3, 3), stride=(1, 1), padding=(1, 1), bias=False),\n",
              "  'weight'),\n",
              " (Conv2d(256, 256, kernel_size=(3, 3), stride=(1, 1), padding=(1, 1), bias=False),\n",
              "  'weight'),\n",
              " (Conv2d(256, 512, kernel_size=(1, 1), stride=(2, 2), bias=False), 'weight'),\n",
              " (Conv2d(256, 512, kernel_size=(3, 3), stride=(2, 2), padding=(1, 1), bias=False),\n",
              "  'weight'),\n",
              " (Conv2d(512, 512, kernel_size=(3, 3), stride=(1, 1), padding=(1, 1), bias=False),\n",
              "  'weight'),\n",
              " (Conv2d(512, 512, kernel_size=(3, 3), stride=(1, 1), padding=(1, 1), bias=False),\n",
              "  'weight'),\n",
              " (Conv2d(512, 512, kernel_size=(3, 3), stride=(1, 1), padding=(1, 1), bias=False),\n",
              "  'weight'),\n",
              " (Linear(in_features=512, out_features=1000, bias=True), 'weight'),\n",
              " (Linear(in_features=1000, out_features=512, bias=True), 'weight'),\n",
              " (Linear(in_features=512, out_features=200, bias=True), 'weight')]"
            ]
          },
          "metadata": {},
          "execution_count": 44
        }
      ],
      "source": [
        "parameters_to_prune"
      ]
    },
    {
      "cell_type": "code",
      "execution_count": null,
      "metadata": {
        "id": "uxOUo83uN5TB"
      },
      "outputs": [],
      "source": [
        "import torch.nn.utils.prune as prune\n",
        "\n",
        "'''\n",
        "Global Structured Pruning\n",
        "'''\n",
        "def global_structured_pruning(amount):\n",
        "  for module, param in parameters_to_prune:\n",
        "      prune.ln_structured(module, name=param, amount=amount, n=float('-inf'), dim=1)\n",
        "\n",
        "'''\n",
        "Global Unstructured Pruning\n",
        "'''\n",
        "def global_unstructured_pruning(amount):\n",
        "\n",
        "  prune.global_unstructured(\n",
        "      parameters_to_prune,\n",
        "      pruning_method=prune.L1Unstructured,\n",
        "      amount=amount,\n",
        "      importance_scores=None\n",
        "  )"
      ]
    },
    {
      "cell_type": "code",
      "execution_count": null,
      "metadata": {
        "id": "le2olR8Dwth-"
      },
      "outputs": [],
      "source": [
        "# for name, module in new_model.named_modules():\n",
        "#     if isinstance(module, torch.nn.Conv2d) or isinstance(module, torch.nn.Linear):\n",
        "#         # Check if the layer's weights have been pruned\n",
        "#         if hasattr(module, 'weight_orig'):\n",
        "#             print(f\"Parameters of {name} have been pruned.\")\n",
        "#         else:\n",
        "#             print(f\"Parameters of {name} have not been pruned.\")"
      ]
    },
    {
      "cell_type": "code",
      "execution_count": null,
      "metadata": {
        "id": "utCkaoc1WlRp"
      },
      "outputs": [],
      "source": [
        "perm_indices = torch.randperm(X.size(0))\n",
        "X = X[perm_indices]\n",
        "label = label[perm_indices]"
      ]
    },
    {
      "cell_type": "code",
      "execution_count": null,
      "metadata": {
        "colab": {
          "base_uri": "https://localhost:8080/"
        },
        "id": "OPfY0-3yWpnz",
        "outputId": "774e61da-6ce5-4a87-dabc-ee9173e75c2a"
      },
      "outputs": [
        {
          "output_type": "execute_result",
          "data": {
            "text/plain": [
              "torch.Size([7466, 64, 64, 3])"
            ]
          },
          "metadata": {},
          "execution_count": 27
        }
      ],
      "source": [
        "X.shape"
      ]
    },
    {
      "cell_type": "code",
      "execution_count": null,
      "metadata": {
        "id": "aMf0eQwQWjkp",
        "colab": {
          "base_uri": "https://localhost:8080/",
          "height": 104,
          "referenced_widgets": [
            "b5faae1ebdb2479eb95e621667f6ef8a",
            "0d0b58c108a144c6a930a2b272181f98",
            "374617fa149945198d91d1279995d46a",
            "03d7544cedf14f85a8cffcf3081e1315",
            "dd91e5b66fb6495cbe61f2b0fd4d30f7",
            "ec8402c77cc54ea6b915b6e174c27607",
            "50f76d66dfba4ff5a45a07ce71905791",
            "070620dd8cbf4f9f981e0df41f7af8d1",
            "17cc1161e41d4bfc96f01d8e5e278fa9",
            "c99a445515b54109a2a9fd317d976486",
            "b218d1a7f51d4d89b3eb66a52aabdb0c"
          ]
        },
        "outputId": "f919ff66-50a7-4acc-e350-e3642d919ef7"
      },
      "outputs": [
        {
          "output_type": "display_data",
          "data": {
            "text/plain": [
              "preprocessor_config.json:   0%|          | 0.00/266 [00:00<?, ?B/s]"
            ],
            "application/vnd.jupyter.widget-view+json": {
              "version_major": 2,
              "version_minor": 0,
              "model_id": "b5faae1ebdb2479eb95e621667f6ef8a"
            }
          },
          "metadata": {}
        },
        {
          "output_type": "stream",
          "name": "stderr",
          "text": [
            "/usr/local/lib/python3.10/dist-packages/transformers/models/convnext/feature_extraction_convnext.py:28: FutureWarning: The class ConvNextFeatureExtractor is deprecated and will be removed in version 5 of Transformers. Please use ConvNextImageProcessor instead.\n",
            "  warnings.warn(\n"
          ]
        }
      ],
      "source": [
        "from transformers import AutoFeatureExtractor, ResNetForImageClassification\n",
        "\n",
        "feature_extractor = AutoFeatureExtractor.from_pretrained(\"microsoft/resnet-18\")\n",
        "\n",
        "# X=X[:10000]\n",
        "# label=label[:10000]\n",
        "X_features=[]\n",
        "# count=0\n",
        "for img in X:\n",
        "  # count=count+1\n",
        "  # print(count)\n",
        "  temp= feature_extractor(img, return_tensors=\"pt\").pixel_values\n",
        "  temp=torch.squeeze(temp)\n",
        "  # print(temp.shape)\n",
        "  X_features.append(temp)\n",
        "X_features=torch.stack(X_features)"
      ]
    },
    {
      "cell_type": "code",
      "execution_count": null,
      "metadata": {
        "id": "jZTdtpiNidlD"
      },
      "outputs": [],
      "source": [
        "X_features=X_features.to('cuda')\n",
        "label=label.to('cuda')\n",
        "new_model=new_model.to('cuda')\n"
      ]
    },
    {
      "cell_type": "code",
      "execution_count": null,
      "metadata": {
        "colab": {
          "base_uri": "https://localhost:8080/"
        },
        "id": "VBXJy5AcFT8g",
        "outputId": "2e8dc8af-69e8-4cde-e3d5-5054ebbd05fd"
      },
      "outputs": [
        {
          "output_type": "execute_result",
          "data": {
            "text/plain": [
              "(torch.Size([7466, 3, 224, 224]), torch.Size([7466]))"
            ]
          },
          "metadata": {},
          "execution_count": 30
        }
      ],
      "source": [
        "X_features.shape,label.shape"
      ]
    },
    {
      "cell_type": "code",
      "execution_count": null,
      "metadata": {
        "id": "_dWqOUuTGsNQ"
      },
      "outputs": [],
      "source": [
        "from sklearn.model_selection import train_test_split\n",
        "X_train, X_val, y_train, y_val = train_test_split(X_features, label, test_size=0.01)"
      ]
    },
    {
      "cell_type": "code",
      "execution_count": null,
      "metadata": {
        "id": "W64sOD9nG_zl",
        "colab": {
          "base_uri": "https://localhost:8080/"
        },
        "outputId": "768064a4-6e23-4218-d49f-806bc63d4372"
      },
      "outputs": [
        {
          "output_type": "execute_result",
          "data": {
            "text/plain": [
              "(torch.Size([7391, 3, 224, 224]), torch.Size([75, 3, 224, 224]))"
            ]
          },
          "metadata": {},
          "execution_count": 32
        }
      ],
      "source": [
        "X_train.shape,X_val.shape"
      ]
    },
    {
      "cell_type": "code",
      "execution_count": null,
      "metadata": {
        "id": "pJUq2j07Gbb1"
      },
      "outputs": [],
      "source": [
        "from torch.utils.data import TensorDataset, DataLoader\n",
        "train_dataset=TensorDataset(X_train,y_train)\n",
        "val_dataset=TensorDataset(X_val,y_val)"
      ]
    },
    {
      "cell_type": "code",
      "execution_count": null,
      "metadata": {
        "id": "oXBUBevrFsk3"
      },
      "outputs": [],
      "source": [
        "val_dataloader = DataLoader(val_dataset, batch_size=64, shuffle=True)\n",
        "train_dataloader = DataLoader(train_dataset, batch_size=64, shuffle=True)"
      ]
    },
    {
      "cell_type": "code",
      "execution_count": null,
      "metadata": {
        "id": "qEzYToEiHhTu",
        "colab": {
          "base_uri": "https://localhost:8080/"
        },
        "outputId": "2a738ba5-c0fe-45d7-dfd3-6514901420b9"
      },
      "outputs": [
        {
          "output_type": "execute_result",
          "data": {
            "text/plain": [
              "116"
            ]
          },
          "metadata": {},
          "execution_count": 35
        }
      ],
      "source": [
        "len(train_dataloader)"
      ]
    },
    {
      "cell_type": "code",
      "execution_count": null,
      "metadata": {
        "id": "DVQxbaOvOtd3",
        "colab": {
          "base_uri": "https://localhost:8080/"
        },
        "outputId": "05364071-3c96-4952-da80-3a5ac4cc4677"
      },
      "outputs": [
        {
          "output_type": "execute_result",
          "data": {
            "text/plain": [
              "2"
            ]
          },
          "metadata": {},
          "execution_count": 36
        }
      ],
      "source": [
        "len(val_dataloader)"
      ]
    },
    {
      "cell_type": "markdown",
      "source": [
        "## Global Unstructured Pruning"
      ],
      "metadata": {
        "id": "zOdv3E4PcZ4S"
      }
    },
    {
      "cell_type": "code",
      "execution_count": null,
      "metadata": {
        "colab": {
          "base_uri": "https://localhost:8080/"
        },
        "id": "DW2lmLOzhpWK",
        "outputId": "4993a284-9ce6-446a-9d60-9b75433f2c3c"
      },
      "outputs": [
        {
          "output_type": "stream",
          "name": "stdout",
          "text": [
            "Pruning loop no.- 1\n",
            "| Epoch=1 | Training Accuracy=0.8051828145980835 | Validation Accuracy=0.8764204978942871 | Training Loss=4.512418746948242 | Validation_Loss=4.434830665588379 |\n",
            "---------------------------------------------------------------------------------------------------------------------\n",
            "| Epoch=2 | Training Accuracy=0.8175925016403198 | Validation Accuracy=0.8309658765792847 | Training Loss=4.500675201416016 | Validation_Loss=4.4851226806640625 |\n",
            "---------------------------------------------------------------------------------------------------------------------\n",
            "| Epoch=3 | Training Accuracy=0.8323831558227539 | Validation Accuracy=0.8607954978942871 | Training Loss=4.4876556396484375 | Validation_Loss=4.449413299560547 |\n",
            "---------------------------------------------------------------------------------------------------------------------\n",
            "| Epoch=4 | Training Accuracy=0.839530885219574 | Validation Accuracy=0.8465908765792847 | Training Loss=4.4791412353515625 | Validation_Loss=4.489795684814453 |\n",
            "---------------------------------------------------------------------------------------------------------------------\n",
            "| Epoch=5 | Training Accuracy=0.84234219789505 | Validation Accuracy=0.9140625 | Training Loss=4.475272178649902 | Validation_Loss=4.405786514282227 |\n",
            "---------------------------------------------------------------------------------------------------------------------\n",
            "Pruning loop no.- 2\n",
            "| Epoch=1 | Training Accuracy=0.8445233702659607 | Validation Accuracy=0.9140625 | Training Loss=4.473416328430176 | Validation_Loss=4.406121253967285 |\n",
            "---------------------------------------------------------------------------------------------------------------------\n",
            "| Epoch=2 | Training Accuracy=0.8476127982139587 | Validation Accuracy=0.8387783765792847 | Training Loss=4.469844818115234 | Validation_Loss=4.477736473083496 |\n",
            "---------------------------------------------------------------------------------------------------------------------\n",
            "| Epoch=3 | Training Accuracy=0.8515364527702332 | Validation Accuracy=0.7556818127632141 | Training Loss=4.46661376953125 | Validation_Loss=4.560652732849121 |\n",
            "---------------------------------------------------------------------------------------------------------------------\n",
            "| Epoch=4 | Training Accuracy=0.8532527089118958 | Validation Accuracy=0.8764204978942871 | Training Loss=4.4647111892700195 | Validation_Loss=4.442182540893555 |\n",
            "---------------------------------------------------------------------------------------------------------------------\n",
            "| Epoch=5 | Training Accuracy=0.8531354069709778 | Validation Accuracy=0.9140625 | Training Loss=4.465324878692627 | Validation_Loss=4.40975284576416 |\n",
            "---------------------------------------------------------------------------------------------------------------------\n"
          ]
        }
      ],
      "source": [
        "epochs=5\n",
        "\n",
        "n_times=2\n",
        "\n",
        "criterion=nn.CrossEntropyLoss()\n",
        "opt=torch.optim.Adam(new_model.parameters(), lr=0.0001)\n",
        "accuracy = torchmetrics.Accuracy(task=\"multiclass\", num_classes=200).to('cuda')\n",
        "\n",
        "for t in range(n_times):\n",
        "  print(f\"Pruning loop no.- {t+1}\")\n",
        "  global_unstructured_pruning(0.01)\n",
        "  for epoch in range(epochs):\n",
        "    avg_train_acc=0\n",
        "    avg_val_acc=0\n",
        "\n",
        "    avg_train_loss=0\n",
        "    avg_val_loss=0\n",
        "    for batch in train_dataloader:\n",
        "\n",
        "      X_batch, label_batch = batch\n",
        "      # print(X_batch.shape)\n",
        "      preds=new_model(X_batch)\n",
        "\n",
        "      loss=criterion(preds,label_batch)\n",
        "      acc=accuracy(preds,label_batch)\n",
        "      avg_train_acc=avg_train_acc+acc\n",
        "      avg_train_loss=avg_train_loss+loss\n",
        "\n",
        "      opt.zero_grad()\n",
        "      loss.backward()\n",
        "      opt.step()\n",
        "\n",
        "\n",
        "    with torch.no_grad():\n",
        "      for batch in val_dataloader:\n",
        "        X_val_batch, label_val_batch = batch\n",
        "\n",
        "\n",
        "        val_preds=new_model(X_val_batch)\n",
        "        val_loss=criterion(val_preds,label_val_batch)\n",
        "        val_acc=accuracy(val_preds,label_val_batch)\n",
        "        avg_val_acc=avg_val_acc+val_acc\n",
        "        avg_val_loss=avg_val_loss+val_loss\n",
        "\n",
        "\n",
        "\n",
        "    # print(f'Epoch {epoch}: Training Loss:  Training accuracy: , Validation Loss: Validation accuracy:')\n",
        "    # if epoch%5==0:\n",
        "    print(f\"| Epoch={epoch+1} | Training Accuracy={avg_train_acc/len(train_dataloader)} | Validation Accuracy={avg_val_acc/len(val_dataloader)} | Training Loss={avg_train_loss/len(train_dataloader)} | Validation_Loss={avg_val_loss/len(val_dataloader)} |\")\n",
        "    print('---------------------------------------------------------------------------------------------------------------------')\n",
        "\n",
        "\n",
        "new_model=new_model.to('cpu')\n",
        "torch.save(new_model,'/content/drive/MyDrive/ED Lab/unstructured_pruned_test_model.pt')\n"
      ]
    },
    {
      "cell_type": "markdown",
      "source": [
        "## Global Structured Pruning"
      ],
      "metadata": {
        "id": "aoRbFtwacURK"
      }
    },
    {
      "cell_type": "code",
      "source": [
        "new_model=torch.load(\"/content/drive/MyDrive/ED Lab/finetuned_model.pt\")\n",
        "new_model=new_model.to(\"cuda\")"
      ],
      "metadata": {
        "id": "YHBj3hE8cTTx"
      },
      "execution_count": null,
      "outputs": []
    },
    {
      "cell_type": "code",
      "source": [
        "epochs=5\n",
        "\n",
        "n_times=2\n",
        "\n",
        "criterion=nn.CrossEntropyLoss()\n",
        "opt=torch.optim.Adam(new_model.parameters(), lr=0.0001)\n",
        "accuracy = torchmetrics.Accuracy(task=\"multiclass\", num_classes=200).to('cuda')\n",
        "\n",
        "for t in range(n_times):\n",
        "  print(f\"Pruning loop no.- {t+1}\")\n",
        "  global_structured_pruning(0.01)\n",
        "  for epoch in range(epochs):\n",
        "    avg_train_acc=0\n",
        "    avg_val_acc=0\n",
        "\n",
        "    avg_train_loss=0\n",
        "    avg_val_loss=0\n",
        "    for batch in train_dataloader:\n",
        "\n",
        "      X_batch, label_batch = batch\n",
        "      # print(X_batch.shape)\n",
        "      preds=new_model(X_batch)\n",
        "\n",
        "      loss=criterion(preds,label_batch)\n",
        "      acc=accuracy(preds,label_batch)\n",
        "      avg_train_acc=avg_train_acc+acc\n",
        "      avg_train_loss=avg_train_loss+loss\n",
        "\n",
        "      opt.zero_grad()\n",
        "      loss.backward()\n",
        "      opt.step()\n",
        "\n",
        "\n",
        "    with torch.no_grad():\n",
        "      for batch in val_dataloader:\n",
        "        X_val_batch, label_val_batch = batch\n",
        "\n",
        "\n",
        "        val_preds=new_model(X_val_batch)\n",
        "        val_loss=criterion(val_preds,label_val_batch)\n",
        "        val_acc=accuracy(val_preds,label_val_batch)\n",
        "        avg_val_acc=avg_val_acc+val_acc\n",
        "        avg_val_loss=avg_val_loss+val_loss\n",
        "\n",
        "\n",
        "\n",
        "    # print(f'Epoch {epoch}: Training Loss:  Training accuracy: , Validation Loss: Validation accuracy:')\n",
        "    # if epoch%5==0:\n",
        "    print(f\"| Epoch={epoch+1} | Training Accuracy={avg_train_acc/len(train_dataloader)} | Validation Accuracy={avg_val_acc/len(val_dataloader)} | Training Loss={avg_train_loss/len(train_dataloader)} | Validation_Loss={avg_val_loss/len(val_dataloader)} |\")\n",
        "    print('---------------------------------------------------------------------------------------------------------------------')\n",
        "\n",
        "\n",
        "new_model=new_model.to('cpu')\n",
        "torch.save(new_model,'/content/drive/MyDrive/ED Lab/structured_pruned_test_model.pt')\n"
      ],
      "metadata": {
        "colab": {
          "base_uri": "https://localhost:8080/"
        },
        "id": "OugCx2yrcLnY",
        "outputId": "b7fe79b3-6286-49c1-ef95-ba8dbc28374c"
      },
      "execution_count": null,
      "outputs": [
        {
          "output_type": "stream",
          "name": "stdout",
          "text": [
            "Pruning loop no.- 1\n",
            "| Epoch=1 | Training Accuracy=0.7234209775924683 | Validation Accuracy=0.6867897510528564 | Training Loss=4.5927228927612305 | Validation_Loss=4.629110336303711 |\n",
            "---------------------------------------------------------------------------------------------------------------------\n",
            "| Epoch=2 | Training Accuracy=0.7460155487060547 | Validation Accuracy=0.8075283765792847 | Training Loss=4.572872638702393 | Validation_Loss=4.5356340408325195 |\n",
            "---------------------------------------------------------------------------------------------------------------------\n",
            "| Epoch=3 | Training Accuracy=0.7675411701202393 | Validation Accuracy=0.7166193127632141 | Training Loss=4.55439567565918 | Validation_Loss=4.598766326904297 |\n",
            "---------------------------------------------------------------------------------------------------------------------\n",
            "| Epoch=4 | Training Accuracy=0.7841699123382568 | Validation Accuracy=0.7997158765792847 | Training Loss=4.537580966949463 | Validation_Loss=4.509411811828613 |\n",
            "---------------------------------------------------------------------------------------------------------------------\n",
            "| Epoch=5 | Training Accuracy=0.7941114902496338 | Validation Accuracy=0.7919033765792847 | Training Loss=4.528831958770752 | Validation_Loss=4.52679443359375 |\n",
            "---------------------------------------------------------------------------------------------------------------------\n",
            "Pruning loop no.- 2\n",
            "| Epoch=1 | Training Accuracy=0.6754075288772583 | Validation Accuracy=0.7372158765792847 | Training Loss=4.646039009094238 | Validation_Loss=4.599093437194824 |\n",
            "---------------------------------------------------------------------------------------------------------------------\n",
            "| Epoch=2 | Training Accuracy=0.7054626941680908 | Validation Accuracy=0.5724431872367859 | Training Loss=4.615194320678711 | Validation_Loss=4.783552169799805 |\n",
            "---------------------------------------------------------------------------------------------------------------------\n",
            "| Epoch=3 | Training Accuracy=0.7224780917167664 | Validation Accuracy=0.7450283765792847 | Training Loss=4.601674556732178 | Validation_Loss=4.592145919799805 |\n",
            "---------------------------------------------------------------------------------------------------------------------\n",
            "| Epoch=4 | Training Accuracy=0.7366127371788025 | Validation Accuracy=0.7230113744735718 | Training Loss=4.591207981109619 | Validation_Loss=4.636361598968506 |\n",
            "---------------------------------------------------------------------------------------------------------------------\n",
            "| Epoch=5 | Training Accuracy=0.7461588978767395 | Validation Accuracy=0.6399147510528564 | Training Loss=4.580388069152832 | Validation_Loss=4.692718029022217 |\n",
            "---------------------------------------------------------------------------------------------------------------------\n"
          ]
        }
      ]
    },
    {
      "cell_type": "markdown",
      "source": [
        "# Comparing Results"
      ],
      "metadata": {
        "id": "uyeVh6msRLSk"
      }
    },
    {
      "cell_type": "code",
      "execution_count": null,
      "metadata": {
        "colab": {
          "base_uri": "https://localhost:8080/"
        },
        "id": "Aov3xu3yICNo",
        "outputId": "177ab53a-4c5a-48c4-e85f-0d99bdd7194d"
      },
      "outputs": [
        {
          "output_type": "stream",
          "name": "stdout",
          "text": [
            "Collecting fvcore\n",
            "  Downloading fvcore-0.1.5.post20221221.tar.gz (50 kB)\n",
            "\u001b[2K     \u001b[90m━━━━━━━━━━━━━━━━━━━━━━━━━━━━━━━━━━━━━━━━\u001b[0m \u001b[32m50.2/50.2 kB\u001b[0m \u001b[31m1.0 MB/s\u001b[0m eta \u001b[36m0:00:00\u001b[0m\n",
            "\u001b[?25h  Preparing metadata (setup.py) ... \u001b[?25l\u001b[?25hdone\n",
            "Requirement already satisfied: numpy in /usr/local/lib/python3.10/dist-packages (from fvcore) (1.25.2)\n",
            "Collecting yacs>=0.1.6 (from fvcore)\n",
            "  Downloading yacs-0.1.8-py3-none-any.whl (14 kB)\n",
            "Requirement already satisfied: pyyaml>=5.1 in /usr/local/lib/python3.10/dist-packages (from fvcore) (6.0.1)\n",
            "Requirement already satisfied: tqdm in /usr/local/lib/python3.10/dist-packages (from fvcore) (4.66.2)\n",
            "Requirement already satisfied: termcolor>=1.1 in /usr/local/lib/python3.10/dist-packages (from fvcore) (2.4.0)\n",
            "Requirement already satisfied: Pillow in /usr/local/lib/python3.10/dist-packages (from fvcore) (9.4.0)\n",
            "Requirement already satisfied: tabulate in /usr/local/lib/python3.10/dist-packages (from fvcore) (0.9.0)\n",
            "Collecting iopath>=0.1.7 (from fvcore)\n",
            "  Downloading iopath-0.1.10.tar.gz (42 kB)\n",
            "\u001b[2K     \u001b[90m━━━━━━━━━━━━━━━━━━━━━━━━━━━━━━━━━━━━━━━━\u001b[0m \u001b[32m42.2/42.2 kB\u001b[0m \u001b[31m427.9 kB/s\u001b[0m eta \u001b[36m0:00:00\u001b[0m\n",
            "\u001b[?25h  Preparing metadata (setup.py) ... \u001b[?25l\u001b[?25hdone\n",
            "Requirement already satisfied: typing_extensions in /usr/local/lib/python3.10/dist-packages (from iopath>=0.1.7->fvcore) (4.9.0)\n",
            "Collecting portalocker (from iopath>=0.1.7->fvcore)\n",
            "  Downloading portalocker-2.8.2-py3-none-any.whl (17 kB)\n",
            "Building wheels for collected packages: fvcore, iopath\n",
            "  Building wheel for fvcore (setup.py) ... \u001b[?25l\u001b[?25hdone\n",
            "  Created wheel for fvcore: filename=fvcore-0.1.5.post20221221-py3-none-any.whl size=61400 sha256=a8225c999c2469a832238d9aff01637dcf9aaad9f306017b2b0527d68e55334e\n",
            "  Stored in directory: /root/.cache/pip/wheels/01/c0/af/77c1cf53a1be9e42a52b48e5af2169d40ec2e89f7362489dd0\n",
            "  Building wheel for iopath (setup.py) ... \u001b[?25l\u001b[?25hdone\n",
            "  Created wheel for iopath: filename=iopath-0.1.10-py3-none-any.whl size=31532 sha256=729a45bfd4a92cff12f52dc39bbdd8a8b39c51a3e0012748e56bec37852ef630\n",
            "  Stored in directory: /root/.cache/pip/wheels/9a/a3/b6/ac0fcd1b4ed5cfeb3db92e6a0e476cfd48ed0df92b91080c1d\n",
            "Successfully built fvcore iopath\n",
            "Installing collected packages: yacs, portalocker, iopath, fvcore\n",
            "Successfully installed fvcore-0.1.5.post20221221 iopath-0.1.10 portalocker-2.8.2 yacs-0.1.8\n",
            "Collecting thop\n",
            "  Downloading thop-0.1.1.post2209072238-py3-none-any.whl (15 kB)\n",
            "Requirement already satisfied: torch in /usr/local/lib/python3.10/dist-packages (from thop) (2.1.0+cu121)\n",
            "Requirement already satisfied: filelock in /usr/local/lib/python3.10/dist-packages (from torch->thop) (3.13.1)\n",
            "Requirement already satisfied: typing-extensions in /usr/local/lib/python3.10/dist-packages (from torch->thop) (4.9.0)\n",
            "Requirement already satisfied: sympy in /usr/local/lib/python3.10/dist-packages (from torch->thop) (1.12)\n",
            "Requirement already satisfied: networkx in /usr/local/lib/python3.10/dist-packages (from torch->thop) (3.2.1)\n",
            "Requirement already satisfied: jinja2 in /usr/local/lib/python3.10/dist-packages (from torch->thop) (3.1.3)\n",
            "Requirement already satisfied: fsspec in /usr/local/lib/python3.10/dist-packages (from torch->thop) (2023.6.0)\n",
            "Requirement already satisfied: triton==2.1.0 in /usr/local/lib/python3.10/dist-packages (from torch->thop) (2.1.0)\n",
            "Requirement already satisfied: MarkupSafe>=2.0 in /usr/local/lib/python3.10/dist-packages (from jinja2->torch->thop) (2.1.5)\n",
            "Requirement already satisfied: mpmath>=0.19 in /usr/local/lib/python3.10/dist-packages (from sympy->torch->thop) (1.3.0)\n",
            "Installing collected packages: thop\n",
            "Successfully installed thop-0.1.1.post2209072238\n"
          ]
        }
      ],
      "source": [
        "!pip install fvcore\n",
        "!pip install thop"
      ]
    },
    {
      "cell_type": "code",
      "execution_count": null,
      "metadata": {
        "id": "fFAszoLe8np0"
      },
      "outputs": [],
      "source": [
        "## Load model and calculate flops\n",
        "pretrained_raw=torch.load('/content/drive/MyDrive/ED Lab/finetuned_model.pt')\n",
        "pretrained_raw=pretrained_raw.to('cuda')\n",
        "\n",
        "pruned_model=torch.load('/content/drive/MyDrive/ED Lab/unstructured_pruned_test_model.pt')\n",
        "pruned_model=pruned_model.to(\"cuda\")\n",
        "\n",
        "pruned_model_structured=torch.load('/content/drive/MyDrive/ED Lab/structured_pruned_test_model.pt')\n",
        "pruned_model_structured=pruned_model_structured.to(\"cuda\")"
      ]
    },
    {
      "cell_type": "markdown",
      "metadata": {
        "id": "7m0e3D8HJCNH"
      },
      "source": [
        "## Before Pruning"
      ]
    },
    {
      "cell_type": "code",
      "execution_count": null,
      "metadata": {
        "colab": {
          "base_uri": "https://localhost:8080/"
        },
        "id": "TsrFNAA0D3BH",
        "outputId": "8c99da74-9c9c-4bac-e239-91236e4ff181"
      },
      "outputs": [
        {
          "output_type": "stream",
          "name": "stdout",
          "text": [
            "-------------------------------------------------------  ------------  ------------  ------------  ------------  ------------  ------------  ------------  ------------  ------------  ------------  ------------  ------------  ------------  ------------  \n",
            "                                                   Name    Self CPU %      Self CPU   CPU total %     CPU total  CPU time avg     Self CUDA   Self CUDA %    CUDA total  CUDA time avg       CPU Mem  Self CPU Mem      CUDA Mem  Self CUDA Mem    # of Calls  \n",
            "-------------------------------------------------------  ------------  ------------  ------------  ------------  ------------  ------------  ------------  ------------  ------------  ------------  ------------  ------------  ------------  ------------  \n",
            "                                        model_inference        26.36%       8.593ms        99.94%      32.577ms      32.577ms       0.000us         0.00%       4.044ms       4.044ms           0 b           0 b       7.00 Kb      -2.46 Mb             1  \n",
            "                                       aten::batch_norm         0.42%     137.000us        37.49%      12.220ms     611.000us       0.000us         0.00%     705.000us      35.250us           0 b           0 b     795.00 Kb     -37.00 Kb            20  \n",
            "                           aten::_batch_norm_impl_index        15.56%       5.073ms        37.07%      12.083ms     604.150us       0.000us         0.00%     705.000us      35.250us           0 b           0 b     832.00 Kb           0 b            20  \n",
            "                                 aten::cudnn_batch_norm        17.43%       5.683ms        21.51%       7.010ms     350.500us     472.000us        13.07%     705.000us      35.250us           0 b           0 b     832.00 Kb           0 b            20  \n",
            "                              aten::adaptive_avg_pool2d        17.13%       5.584ms        17.39%       5.667ms       5.667ms       0.000us         0.00%       9.000us       9.000us           0 b           0 b       2.00 Kb           0 b             1  \n",
            "                                           aten::conv2d         4.40%       1.433ms        12.55%       4.090ms     204.500us       0.000us         0.00%       3.076ms     153.800us           0 b           0 b     792.00 Kb           0 b            20  \n",
            "                                      aten::convolution         0.49%     160.000us         8.15%       2.657ms     132.850us       0.000us         0.00%       3.076ms     153.800us           0 b           0 b     792.00 Kb           0 b            20  \n",
            "                                     aten::_convolution         0.56%     181.000us         7.66%       2.497ms     124.850us       0.000us         0.00%       3.076ms     153.800us           0 b           0 b     792.00 Kb           0 b            20  \n",
            "                                aten::cudnn_convolution         5.87%       1.912ms         7.10%       2.316ms     115.800us       2.944ms        81.55%       3.076ms     153.800us           0 b           0 b     792.00 Kb     792.00 Kb            20  \n",
            "                                       cudaLaunchKernel         3.57%       1.163ms         3.57%       1.163ms      10.869us      72.000us         1.99%      72.000us       0.673us           0 b           0 b           0 b           0 b           107  \n",
            "                                            aten::empty         2.88%     938.000us         2.88%     938.000us       9.380us       0.000us         0.00%       0.000us       0.000us           0 b           0 b     832.00 Kb     832.00 Kb           100  \n",
            "                                             aten::add_         1.66%     541.000us         2.45%     800.000us      28.571us      82.000us         2.27%     148.000us       5.286us           0 b           0 b           0 b           0 b            28  \n",
            "                                             aten::relu         0.52%     170.000us         2.29%     747.000us      41.500us       0.000us         0.00%      56.000us       3.111us           0 b           0 b     738.00 Kb           0 b            18  \n",
            "                                        aten::clamp_min         1.14%     370.000us         1.77%     577.000us      32.056us      53.000us         1.47%      56.000us       3.111us           0 b           0 b     738.00 Kb     738.00 Kb            18  \n",
            "                                       aten::empty_like         0.31%     102.000us         1.13%     368.000us      18.400us       0.000us         0.00%       0.000us       0.000us           0 b           0 b     792.00 Kb           0 b            20  \n",
            "                                           aten::linear         0.11%      35.000us         0.96%     314.000us     104.667us       0.000us         0.00%      38.000us      12.667us           0 b           0 b       7.00 Kb           0 b             3  \n",
            "                                            aten::addmm         0.55%     178.000us         0.68%     223.000us      74.333us      38.000us         1.05%      38.000us      12.667us           0 b           0 b       7.00 Kb       7.00 Kb             3  \n",
            "                                             aten::mean         0.18%      60.000us         0.25%      83.000us      83.000us       9.000us         0.25%       9.000us       9.000us           0 b           0 b       2.00 Kb       2.00 Kb             1  \n",
            "                                       aten::max_pool2d         0.03%       9.000us         0.24%      78.000us      78.000us       0.000us         0.00%       7.000us       7.000us           0 b           0 b     192.00 Kb           0 b             1  \n",
            "                          aten::max_pool2d_with_indices         0.14%      46.000us         0.21%      69.000us      69.000us       7.000us         0.19%       7.000us       7.000us           0 b           0 b     192.00 Kb     192.00 Kb             1  \n",
            "                                                aten::t         0.10%      31.000us         0.17%      56.000us      18.667us       0.000us         0.00%       0.000us       0.000us           0 b           0 b           0 b           0 b             3  \n",
            "                                             aten::view         0.17%      54.000us         0.17%      54.000us       2.571us       0.000us         0.00%       0.000us       0.000us           0 b           0 b           0 b           0 b            21  \n",
            "                                          aten::softmax         0.03%      11.000us         0.16%      53.000us      53.000us       0.000us         0.00%       5.000us       5.000us           0 b           0 b       1.00 Kb           0 b             1  \n",
            "                                         aten::_softmax         0.09%      30.000us         0.13%      42.000us      42.000us       5.000us         0.14%       5.000us       5.000us           0 b           0 b       1.00 Kb       1.00 Kb             1  \n",
            "                                  cudaStreamIsCapturing         0.10%      31.000us         0.10%      31.000us       0.775us     100.000us         2.77%     100.000us       2.500us           0 b           0 b           0 b           0 b            40  \n",
            "                                        aten::transpose         0.06%      18.000us         0.08%      25.000us       8.333us       0.000us         0.00%       0.000us       0.000us           0 b           0 b           0 b           0 b             3  \n",
            "                                  cudaDeviceSynchronize         0.06%      20.000us         0.06%      20.000us      20.000us       0.000us         0.00%       0.000us       0.000us           0 b           0 b           0 b           0 b             1  \n",
            "                                  cudaStreamGetPriority         0.05%      17.000us         0.05%      17.000us       0.425us     181.000us         5.01%     181.000us       4.525us           0 b           0 b           0 b           0 b            40  \n",
            "                                          aten::flatten         0.02%       6.000us         0.05%      15.000us      15.000us       0.000us         0.00%       0.000us       0.000us           0 b           0 b           0 b           0 b             1  \n",
            "                                       aten::as_strided         0.02%       7.000us         0.02%       7.000us       2.333us       0.000us         0.00%       0.000us       0.000us           0 b           0 b           0 b           0 b             3  \n",
            "                       cudaDeviceGetStreamPriorityRange         0.01%       4.000us         0.01%       4.000us       0.100us      81.000us         2.24%      81.000us       2.025us           0 b           0 b           0 b           0 b            40  \n",
            "void cask_cudnn_infer::computeOffsetsKernel<false, f...         0.00%       0.000us         0.00%       0.000us       0.000us       3.000us         0.08%       3.000us       3.000us           0 b           0 b           0 b           0 b             1  \n",
            "                                        cudaMemsetAsync         0.00%       0.000us         0.00%       0.000us       0.000us       0.000us         0.00%       0.000us       0.000us           0 b           0 b           0 b           0 b             1  \n",
            "cudnn_infer_volta_scudnn_128x64_relu_xregs_large_nn_...         0.00%       0.000us         0.00%       0.000us       0.000us      64.000us         1.77%      64.000us      64.000us           0 b           0 b           0 b           0 b             1  \n",
            "void at::native::vectorized_elementwise_kernel<4, at...         0.00%       0.000us         0.00%       0.000us       0.000us      60.000us         1.66%      60.000us       3.000us           0 b           0 b           0 b           0 b            20  \n",
            "void cudnn::bn_fw_tr_1C11_singleread<float, 512, tru...         0.00%       0.000us         0.00%       0.000us       0.000us     472.000us        13.07%     472.000us      23.600us           0 b           0 b           0 b           0 b            20  \n",
            "void at::native::vectorized_elementwise_kernel<4, at...         0.00%       0.000us         0.00%       0.000us       0.000us      53.000us         1.47%      53.000us       2.944us           0 b           0 b           0 b           0 b            18  \n",
            "void at::native::(anonymous namespace)::max_pool_for...         0.00%       0.000us         0.00%       0.000us       0.000us       7.000us         0.19%       7.000us       7.000us           0 b           0 b           0 b           0 b             1  \n",
            "void cudnn::winograd::generateWinogradTilesKernel<0,...         0.00%       0.000us         0.00%       0.000us       0.000us     503.000us        13.93%     503.000us      38.692us           0 b           0 b           0 b           0 b            13  \n",
            "cudnn_infer_volta_scudnn_winograd_128x128_ldg1_ldg4_...         0.00%       0.000us         0.00%       0.000us       0.000us       1.751ms        48.50%       1.751ms     134.692us           0 b           0 b           0 b           0 b            13  \n",
            "void at::native::vectorized_elementwise_kernel<4, at...         0.00%       0.000us         0.00%       0.000us       0.000us      22.000us         0.61%      22.000us       2.750us           0 b           0 b           0 b           0 b             8  \n",
            "void implicit_convolve_sgemm<float, float, 128, 5, 5...         0.00%       0.000us         0.00%       0.000us       0.000us     584.000us        16.18%     584.000us     116.800us           0 b           0 b           0 b           0 b             5  \n",
            "void cudnn::cnn::kern_precompute_indices<false>(int*...         0.00%       0.000us         0.00%       0.000us       0.000us       3.000us         0.08%       3.000us       3.000us           0 b           0 b           0 b           0 b             1  \n",
            "void precomputed_convolve_sgemm<float, 1024, 5, 5, 4...         0.00%       0.000us         0.00%       0.000us       0.000us      36.000us         1.00%      36.000us      36.000us           0 b           0 b           0 b           0 b             1  \n",
            "void at::native::reduce_kernel<512, 1, at::native::R...         0.00%       0.000us         0.00%       0.000us       0.000us       9.000us         0.25%       9.000us       9.000us           0 b           0 b           0 b           0 b             1  \n",
            "std::enable_if<!(false), void>::type internal::gemvx...         0.00%       0.000us         0.00%       0.000us       0.000us      13.000us         0.36%      13.000us      13.000us           0 b           0 b           0 b           0 b             1  \n",
            "std::enable_if<!(false), void>::type internal::gemvx...         0.00%       0.000us         0.00%       0.000us       0.000us      25.000us         0.69%      25.000us      12.500us           0 b           0 b           0 b           0 b             2  \n",
            "void (anonymous namespace)::softmax_warp_forward<flo...         0.00%       0.000us         0.00%       0.000us       0.000us       5.000us         0.14%       5.000us       5.000us           0 b           0 b           0 b           0 b             1  \n",
            "-------------------------------------------------------  ------------  ------------  ------------  ------------  ------------  ------------  ------------  ------------  ------------  ------------  ------------  ------------  ------------  ------------  \n",
            "Self CPU time total: 32.597ms\n",
            "Self CUDA time total: 3.610ms\n",
            "\n"
          ]
        }
      ],
      "source": [
        "import torch.profiler\n",
        "# new_model=new_model.to(\"cuda\")\n",
        "\n",
        "input_size = (1, 3, 64, 64)\n",
        "\n",
        "\n",
        "input_data = torch.randn(input_size)\n",
        "input_data = input_data.cuda()\n",
        "\n",
        "\n",
        "with torch.no_grad():\n",
        "    _ = pretrained_raw(input_data)\n",
        "\n",
        "\n",
        "with torch.profiler.profile(profile_memory=True, record_shapes=True) as prof:\n",
        "    with torch.profiler.record_function(\"model_inference\"):\n",
        "        _ = pretrained_raw(input_data)\n",
        "\n",
        "print(prof.key_averages().table(sort_by=\"cpu_time_total\"))\n",
        "\n"
      ]
    },
    {
      "cell_type": "markdown",
      "metadata": {
        "id": "Gg4KY_YTI5mB"
      },
      "source": [
        "## After Pruning (Global Unstructured)"
      ]
    },
    {
      "cell_type": "code",
      "execution_count": null,
      "metadata": {
        "colab": {
          "base_uri": "https://localhost:8080/"
        },
        "id": "w6LomhE2JMrw",
        "outputId": "4073d96f-7228-47a2-8023-df0d294f16af"
      },
      "outputs": [
        {
          "output_type": "stream",
          "name": "stdout",
          "text": [
            "-------------------------------------------------------  ------------  ------------  ------------  ------------  ------------  ------------  ------------  ------------  ------------  ------------  ------------  ------------  ------------  ------------  \n",
            "                                                   Name    Self CPU %      Self CPU   CPU total %     CPU total  CPU time avg     Self CUDA   Self CUDA %    CUDA total  CUDA time avg       CPU Mem  Self CPU Mem      CUDA Mem  Self CUDA Mem    # of Calls  \n",
            "-------------------------------------------------------  ------------  ------------  ------------  ------------  ------------  ------------  ------------  ------------  ------------  ------------  ------------  ------------  ------------  ------------  \n",
            "                                        model_inference        65.93%      17.574ms        99.92%      26.634ms      26.634ms       0.000us         0.00%       4.191ms       4.191ms           0 b           0 b       7.00 Kb     -50.40 Mb             1  \n",
            "                                       aten::batch_norm         0.42%     111.000us         9.48%       2.526ms     126.300us       0.000us         0.00%     472.000us      23.600us           0 b           0 b     793.00 Kb     -39.00 Kb            20  \n",
            "                           aten::_batch_norm_impl_index         0.40%     106.000us         9.06%       2.415ms     120.750us       0.000us         0.00%     472.000us      23.600us           0 b           0 b     832.00 Kb           0 b            20  \n",
            "                                              aten::mul         7.98%       2.128ms         9.05%       2.411ms     104.826us     576.000us        13.74%     576.000us      25.043us           0 b           0 b      48.07 Mb      48.07 Mb            23  \n",
            "                                 aten::cudnn_batch_norm         3.80%       1.013ms         8.66%       2.309ms     115.450us     472.000us        11.26%     472.000us      23.600us           0 b           0 b     832.00 Kb           0 b            20  \n",
            "                                           aten::conv2d         0.39%     105.000us         8.01%       2.135ms     106.750us       0.000us         0.00%       2.953ms     147.650us           0 b           0 b     792.00 Kb           0 b            20  \n",
            "                                      aten::convolution         0.52%     139.000us         7.62%       2.030ms     101.500us       0.000us         0.00%       2.953ms     147.650us           0 b           0 b     792.00 Kb           0 b            20  \n",
            "                                     aten::_convolution         0.79%     210.000us         7.09%       1.891ms      94.550us       0.000us         0.00%       2.953ms     147.650us           0 b           0 b     792.00 Kb           0 b            20  \n",
            "                                aten::cudnn_convolution         4.71%       1.256ms         6.31%       1.681ms      84.050us       2.953ms        70.46%       2.953ms     147.650us           0 b           0 b     792.00 Kb     792.00 Kb            20  \n",
            "                                       cudaLaunchKernel         5.62%       1.497ms         5.62%       1.497ms      11.515us       0.000us         0.00%       0.000us       0.000us           0 b           0 b           0 b           0 b           130  \n",
            "                                            aten::empty         3.25%     866.000us         3.25%     866.000us       8.660us       0.000us         0.00%       0.000us       0.000us           0 b           0 b     832.00 Kb     832.00 Kb           100  \n",
            "                                             aten::add_         1.90%     507.000us         3.09%     823.000us      29.393us      83.000us         1.98%      83.000us       2.964us           0 b           0 b           0 b           0 b            28  \n",
            "                                             aten::relu         0.54%     143.000us         2.66%     708.000us      39.333us       0.000us         0.00%      53.000us       2.944us           0 b           0 b     738.00 Kb           0 b            18  \n",
            "                                        aten::clamp_min         1.38%     369.000us         2.12%     565.000us      31.389us      53.000us         1.26%      53.000us       2.944us           0 b           0 b     738.00 Kb     738.00 Kb            18  \n",
            "                                       aten::empty_like         0.42%     113.000us         1.34%     357.000us      17.850us       0.000us         0.00%       0.000us       0.000us           0 b           0 b     792.00 Kb           0 b            20  \n",
            "                                           aten::linear         0.07%      19.000us         1.05%     281.000us      93.667us       0.000us         0.00%      33.000us      11.000us           0 b           0 b       7.00 Kb           0 b             3  \n",
            "                                            aten::addmm         0.66%     175.000us         0.81%     216.000us      72.000us      33.000us         0.79%      33.000us      11.000us           0 b           0 b       7.00 Kb       7.00 Kb             3  \n",
            "                              aten::adaptive_avg_pool2d         0.02%       6.000us         0.24%      64.000us      64.000us       0.000us         0.00%       9.000us       9.000us           0 b           0 b       2.00 Kb           0 b             1  \n",
            "                                             aten::mean         0.16%      43.000us         0.22%      58.000us      58.000us       9.000us         0.21%       9.000us       9.000us           0 b           0 b       2.00 Kb       2.00 Kb             1  \n",
            "                                       aten::max_pool2d         0.03%       9.000us         0.18%      49.000us      49.000us       0.000us         0.00%       7.000us       7.000us           0 b           0 b      64.00 Kb    -128.00 Kb             1  \n",
            "                                          aten::softmax         0.02%       5.000us         0.18%      49.000us      49.000us       0.000us         0.00%       5.000us       5.000us           0 b           0 b       1.00 Kb           0 b             1  \n",
            "                                             aten::view         0.18%      47.000us         0.18%      47.000us       2.238us       0.000us         0.00%       0.000us       0.000us           0 b           0 b           0 b           0 b            21  \n",
            "                                                aten::t         0.08%      21.000us         0.17%      46.000us      15.333us       0.000us         0.00%       0.000us       0.000us           0 b           0 b           0 b           0 b             3  \n",
            "                                         aten::_softmax         0.12%      32.000us         0.17%      44.000us      44.000us       5.000us         0.12%       5.000us       5.000us           0 b           0 b       1.00 Kb       1.00 Kb             1  \n",
            "                                  cudaStreamIsCapturing         0.15%      40.000us         0.15%      40.000us       1.000us       0.000us         0.00%       0.000us       0.000us           0 b           0 b           0 b           0 b            40  \n",
            "                          aten::max_pool2d_with_indices         0.11%      29.000us         0.15%      40.000us      40.000us       7.000us         0.17%       7.000us       7.000us           0 b           0 b     192.00 Kb     192.00 Kb             1  \n",
            "                                  cudaStreamGetPriority         0.14%      36.000us         0.14%      36.000us       0.900us       0.000us         0.00%       0.000us       0.000us           0 b           0 b           0 b           0 b            40  \n",
            "                                        aten::transpose         0.07%      19.000us         0.09%      25.000us       8.333us       0.000us         0.00%       0.000us       0.000us           0 b           0 b           0 b           0 b             3  \n",
            "                                  cudaDeviceSynchronize         0.08%      20.000us         0.08%      20.000us      20.000us       0.000us         0.00%       0.000us       0.000us           0 b           0 b           0 b           0 b             1  \n",
            "                                          aten::flatten         0.02%       6.000us         0.05%      13.000us      13.000us       0.000us         0.00%       0.000us       0.000us           0 b           0 b           0 b           0 b             1  \n",
            "                                       aten::as_strided         0.02%       6.000us         0.02%       6.000us       2.000us       0.000us         0.00%       0.000us       0.000us           0 b           0 b           0 b           0 b             3  \n",
            "                       cudaDeviceGetStreamPriorityRange         0.01%       3.000us         0.01%       3.000us       0.075us       0.000us         0.00%       0.000us       0.000us           0 b           0 b           0 b           0 b            40  \n",
            "                                               aten::to         0.00%       1.000us         0.00%       1.000us       0.043us       0.000us         0.00%       0.000us       0.000us           0 b           0 b           0 b           0 b            23  \n",
            "void at::native::vectorized_elementwise_kernel<4, at...         0.00%       0.000us         0.00%       0.000us       0.000us     576.000us        13.74%     576.000us      25.043us           0 b           0 b           0 b           0 b            23  \n",
            "void cask_cudnn_infer::computeOffsetsKernel<false, f...         0.00%       0.000us         0.00%       0.000us       0.000us       3.000us         0.07%       3.000us       3.000us           0 b           0 b           0 b           0 b             1  \n",
            "                                        cudaMemsetAsync         0.00%       0.000us         0.00%       0.000us       0.000us       0.000us         0.00%       0.000us       0.000us           0 b           0 b           0 b           0 b             1  \n",
            "cudnn_infer_volta_scudnn_128x64_relu_xregs_large_nn_...         0.00%       0.000us         0.00%       0.000us       0.000us      63.000us         1.50%      63.000us      63.000us           0 b           0 b           0 b           0 b             1  \n",
            "void at::native::vectorized_elementwise_kernel<4, at...         0.00%       0.000us         0.00%       0.000us       0.000us      60.000us         1.43%      60.000us       3.000us           0 b           0 b           0 b           0 b            20  \n",
            "void cudnn::bn_fw_tr_1C11_singleread<float, 512, tru...         0.00%       0.000us         0.00%       0.000us       0.000us     472.000us        11.26%     472.000us      23.600us           0 b           0 b           0 b           0 b            20  \n",
            "void at::native::vectorized_elementwise_kernel<4, at...         0.00%       0.000us         0.00%       0.000us       0.000us      53.000us         1.26%      53.000us       2.944us           0 b           0 b           0 b           0 b            18  \n",
            "void at::native::(anonymous namespace)::max_pool_for...         0.00%       0.000us         0.00%       0.000us       0.000us       7.000us         0.17%       7.000us       7.000us           0 b           0 b           0 b           0 b             1  \n",
            "void cudnn::winograd::generateWinogradTilesKernel<0,...         0.00%       0.000us         0.00%       0.000us       0.000us     522.000us        12.46%     522.000us      40.154us           0 b           0 b           0 b           0 b            13  \n",
            "cudnn_infer_volta_scudnn_winograd_128x128_ldg1_ldg4_...         0.00%       0.000us         0.00%       0.000us       0.000us       1.751ms        41.78%       1.751ms     134.692us           0 b           0 b           0 b           0 b            13  \n",
            "void at::native::vectorized_elementwise_kernel<4, at...         0.00%       0.000us         0.00%       0.000us       0.000us      23.000us         0.55%      23.000us       2.875us           0 b           0 b           0 b           0 b             8  \n",
            "void implicit_convolve_sgemm<float, float, 128, 5, 5...         0.00%       0.000us         0.00%       0.000us       0.000us     576.000us        13.74%     576.000us     115.200us           0 b           0 b           0 b           0 b             5  \n",
            "void cudnn::cnn::kern_precompute_indices<false>(int*...         0.00%       0.000us         0.00%       0.000us       0.000us       3.000us         0.07%       3.000us       3.000us           0 b           0 b           0 b           0 b             1  \n",
            "void precomputed_convolve_sgemm<float, 1024, 5, 5, 4...         0.00%       0.000us         0.00%       0.000us       0.000us      35.000us         0.84%      35.000us      35.000us           0 b           0 b           0 b           0 b             1  \n",
            "void at::native::reduce_kernel<512, 1, at::native::R...         0.00%       0.000us         0.00%       0.000us       0.000us       9.000us         0.21%       9.000us       9.000us           0 b           0 b           0 b           0 b             1  \n",
            "std::enable_if<!(false), void>::type internal::gemvx...         0.00%       0.000us         0.00%       0.000us       0.000us      11.000us         0.26%      11.000us      11.000us           0 b           0 b           0 b           0 b             1  \n",
            "std::enable_if<!(false), void>::type internal::gemvx...         0.00%       0.000us         0.00%       0.000us       0.000us      22.000us         0.52%      22.000us      11.000us           0 b           0 b           0 b           0 b             2  \n",
            "void (anonymous namespace)::softmax_warp_forward<flo...         0.00%       0.000us         0.00%       0.000us       0.000us       5.000us         0.12%       5.000us       5.000us           0 b           0 b           0 b           0 b             1  \n",
            "-------------------------------------------------------  ------------  ------------  ------------  ------------  ------------  ------------  ------------  ------------  ------------  ------------  ------------  ------------  ------------  ------------  \n",
            "Self CPU time total: 26.654ms\n",
            "Self CUDA time total: 4.191ms\n",
            "\n"
          ]
        }
      ],
      "source": [
        "import torch.profiler\n",
        "# new_model=new_model.to(\"cuda\")\n",
        "\n",
        "input_size = (1, 3, 64, 64)\n",
        "\n",
        "\n",
        "input_data = torch.randn(input_size)\n",
        "input_data = input_data.cuda()\n",
        "\n",
        "\n",
        "with torch.no_grad():\n",
        "    _ = pruned_model(input_data)\n",
        "\n",
        "\n",
        "with torch.profiler.profile(profile_memory=True, record_shapes=True) as prof:\n",
        "    with torch.profiler.record_function(\"model_inference\"):\n",
        "        _ = pruned_model(input_data)\n",
        "\n",
        "print(prof.key_averages().table(sort_by=\"cpu_time_total\"))\n",
        "\n"
      ]
    },
    {
      "cell_type": "markdown",
      "metadata": {
        "id": "dgkpFTVrJuhe"
      },
      "source": [
        "## After Pruning (Global Structured)"
      ]
    },
    {
      "cell_type": "code",
      "execution_count": null,
      "metadata": {
        "colab": {
          "base_uri": "https://localhost:8080/"
        },
        "id": "QMNDDodLKXoE",
        "outputId": "690ce807-3669-4de3-b880-79782a065295"
      },
      "outputs": [
        {
          "output_type": "stream",
          "name": "stdout",
          "text": [
            "-------------------------------------------------------  ------------  ------------  ------------  ------------  ------------  ------------  ------------  ------------  ------------  ------------  ------------  ------------  ------------  ------------  \n",
            "                                                   Name    Self CPU %      Self CPU   CPU total %     CPU total  CPU time avg     Self CUDA   Self CUDA %    CUDA total  CUDA time avg       CPU Mem  Self CPU Mem      CUDA Mem  Self CUDA Mem    # of Calls  \n",
            "-------------------------------------------------------  ------------  ------------  ------------  ------------  ------------  ------------  ------------  ------------  ------------  ------------  ------------  ------------  ------------  ------------  \n",
            "                                        model_inference        36.31%       4.870ms        99.87%      13.395ms      13.395ms       0.000us         0.00%       4.196ms       4.196ms           0 b           0 b       1.51 Mb     -49.53 Mb             1  \n",
            "                                       aten::batch_norm         0.88%     118.000us        19.54%       2.621ms     131.050us       0.000us         0.00%     471.000us      23.550us           0 b           0 b     797.00 Kb     -35.00 Kb            20  \n",
            "                           aten::_batch_norm_impl_index         0.83%     111.000us        18.66%       2.503ms     125.150us       0.000us         0.00%     471.000us      23.550us           0 b           0 b     832.00 Kb           0 b            20  \n",
            "                                 aten::cudnn_batch_norm         8.04%       1.078ms        17.83%       2.392ms     119.600us     471.000us        11.22%     471.000us      23.550us           0 b           0 b     832.00 Kb           0 b            20  \n",
            "                                           aten::conv2d         0.98%     132.000us        16.28%       2.184ms     109.200us       0.000us         0.00%       2.959ms     147.950us           0 b           0 b     792.00 Kb           0 b            20  \n",
            "                                      aten::convolution         1.05%     141.000us        15.30%       2.052ms     102.600us       0.000us         0.00%       2.959ms     147.950us           0 b           0 b     792.00 Kb           0 b            20  \n",
            "                                     aten::_convolution         1.45%     195.000us        14.25%       1.911ms      95.550us       0.000us         0.00%       2.959ms     147.950us           0 b           0 b     792.00 Kb           0 b            20  \n",
            "                                aten::cudnn_convolution         9.45%       1.267ms        12.79%       1.716ms      85.800us       2.959ms        70.52%       2.959ms     147.950us           0 b           0 b     792.00 Kb     792.00 Kb            20  \n",
            "                                       cudaLaunchKernel        11.84%       1.588ms        11.84%       1.588ms      12.215us       0.000us         0.00%       0.000us       0.000us           0 b           0 b           0 b           0 b           130  \n",
            "                                              aten::mul         9.40%       1.261ms        11.67%       1.565ms      68.043us     578.000us        13.78%     578.000us      25.130us           0 b           0 b      48.69 Mb      48.69 Mb            23  \n",
            "                                            aten::empty         6.51%     873.000us         6.51%     873.000us       8.730us       0.000us         0.00%       0.000us       0.000us           0 b           0 b     832.00 Kb     832.00 Kb           100  \n",
            "                                             aten::add_         4.02%     539.000us         6.49%     871.000us      31.107us      83.000us         1.98%      83.000us       2.964us           0 b           0 b           0 b           0 b            28  \n",
            "                                             aten::relu         1.22%     163.000us         5.66%     759.000us      42.167us       0.000us         0.00%      51.000us       2.833us           0 b           0 b     738.00 Kb           0 b            18  \n",
            "                                        aten::clamp_min         2.92%     391.000us         4.44%     596.000us      33.111us      51.000us         1.22%      51.000us       2.833us           0 b           0 b     738.00 Kb     738.00 Kb            18  \n",
            "                                       aten::empty_like         0.84%     113.000us         2.77%     372.000us      18.600us       0.000us         0.00%       0.000us       0.000us           0 b           0 b     792.00 Kb           0 b            20  \n",
            "                                           aten::linear         0.55%      74.000us         2.60%     349.000us     116.333us       0.000us         0.00%      33.000us      11.000us           0 b           0 b       7.00 Kb           0 b             3  \n",
            "                                            aten::addmm         1.35%     181.000us         1.71%     229.000us      76.333us      33.000us         0.79%      33.000us      11.000us           0 b           0 b       7.00 Kb       7.00 Kb             3  \n",
            "                              aten::adaptive_avg_pool2d         0.05%       7.000us         0.48%      65.000us      65.000us       0.000us         0.00%       9.000us       9.000us           0 b           0 b       2.00 Kb           0 b             1  \n",
            "                                             aten::mean         0.30%      40.000us         0.43%      58.000us      58.000us       9.000us         0.21%       9.000us       9.000us           0 b           0 b       2.00 Kb       2.00 Kb             1  \n",
            "                                          aten::softmax         0.04%       6.000us         0.37%      49.000us      49.000us       0.000us         0.00%       5.000us       5.000us           0 b           0 b       1.00 Kb           0 b             1  \n",
            "                                       aten::max_pool2d         0.06%       8.000us         0.36%      48.000us      48.000us       0.000us         0.00%       7.000us       7.000us           0 b           0 b      64.00 Kb    -128.00 Kb             1  \n",
            "                                             aten::view         0.35%      47.000us         0.35%      47.000us       2.238us       0.000us         0.00%       0.000us       0.000us           0 b           0 b           0 b           0 b            21  \n",
            "                                                aten::t         0.16%      22.000us         0.34%      46.000us      15.333us       0.000us         0.00%       0.000us       0.000us           0 b           0 b           0 b           0 b             3  \n",
            "                                         aten::_softmax         0.23%      31.000us         0.32%      43.000us      43.000us       5.000us         0.12%       5.000us       5.000us           0 b           0 b       1.00 Kb       1.00 Kb             1  \n",
            "                          aten::max_pool2d_with_indices         0.22%      29.000us         0.30%      40.000us      40.000us       7.000us         0.17%       7.000us       7.000us           0 b           0 b     192.00 Kb     192.00 Kb             1  \n",
            "                                  cudaStreamIsCapturing         0.29%      39.000us         0.29%      39.000us       0.975us       0.000us         0.00%       0.000us       0.000us           0 b           0 b           0 b           0 b            40  \n",
            "                                  cudaStreamGetPriority         0.27%      36.000us         0.27%      36.000us       0.900us       0.000us         0.00%       0.000us       0.000us           0 b           0 b           0 b           0 b            40  \n",
            "                                        aten::transpose         0.13%      18.000us         0.18%      24.000us       8.000us       0.000us         0.00%       0.000us       0.000us           0 b           0 b           0 b           0 b             3  \n",
            "                                  cudaDeviceSynchronize         0.13%      17.000us         0.13%      17.000us      17.000us       0.000us         0.00%       0.000us       0.000us           0 b           0 b           0 b           0 b             1  \n",
            "                                          aten::flatten         0.04%       6.000us         0.10%      13.000us      13.000us       0.000us         0.00%       0.000us       0.000us           0 b           0 b           0 b           0 b             1  \n",
            "                                       aten::as_strided         0.04%       6.000us         0.04%       6.000us       2.000us       0.000us         0.00%       0.000us       0.000us           0 b           0 b           0 b           0 b             3  \n",
            "                       cudaDeviceGetStreamPriorityRange         0.03%       4.000us         0.03%       4.000us       0.100us       0.000us         0.00%       0.000us       0.000us           0 b           0 b           0 b           0 b            40  \n",
            "                                               aten::to         0.01%       1.000us         0.01%       1.000us       0.043us       0.000us         0.00%       0.000us       0.000us           0 b           0 b           0 b           0 b            23  \n",
            "void at::native::vectorized_elementwise_kernel<4, at...         0.00%       0.000us         0.00%       0.000us       0.000us     578.000us        13.78%     578.000us      25.130us           0 b           0 b           0 b           0 b            23  \n",
            "void cask_cudnn_infer::computeOffsetsKernel<false, f...         0.00%       0.000us         0.00%       0.000us       0.000us       3.000us         0.07%       3.000us       3.000us           0 b           0 b           0 b           0 b             1  \n",
            "                                        cudaMemsetAsync         0.00%       0.000us         0.00%       0.000us       0.000us       0.000us         0.00%       0.000us       0.000us           0 b           0 b           0 b           0 b             1  \n",
            "cudnn_infer_volta_scudnn_128x64_relu_xregs_large_nn_...         0.00%       0.000us         0.00%       0.000us       0.000us      64.000us         1.53%      64.000us      64.000us           0 b           0 b           0 b           0 b             1  \n",
            "void at::native::vectorized_elementwise_kernel<4, at...         0.00%       0.000us         0.00%       0.000us       0.000us      60.000us         1.43%      60.000us       3.000us           0 b           0 b           0 b           0 b            20  \n",
            "void cudnn::bn_fw_tr_1C11_singleread<float, 512, tru...         0.00%       0.000us         0.00%       0.000us       0.000us     471.000us        11.22%     471.000us      23.550us           0 b           0 b           0 b           0 b            20  \n",
            "void at::native::vectorized_elementwise_kernel<4, at...         0.00%       0.000us         0.00%       0.000us       0.000us      51.000us         1.22%      51.000us       2.833us           0 b           0 b           0 b           0 b            18  \n",
            "void at::native::(anonymous namespace)::max_pool_for...         0.00%       0.000us         0.00%       0.000us       0.000us       7.000us         0.17%       7.000us       7.000us           0 b           0 b           0 b           0 b             1  \n",
            "void cudnn::winograd::generateWinogradTilesKernel<0,...         0.00%       0.000us         0.00%       0.000us       0.000us     526.000us        12.54%     526.000us      40.462us           0 b           0 b           0 b           0 b            13  \n",
            "cudnn_infer_volta_scudnn_winograd_128x128_ldg1_ldg4_...         0.00%       0.000us         0.00%       0.000us       0.000us       1.752ms        41.75%       1.752ms     134.769us           0 b           0 b           0 b           0 b            13  \n",
            "void at::native::vectorized_elementwise_kernel<4, at...         0.00%       0.000us         0.00%       0.000us       0.000us      23.000us         0.55%      23.000us       2.875us           0 b           0 b           0 b           0 b             8  \n",
            "void implicit_convolve_sgemm<float, float, 128, 5, 5...         0.00%       0.000us         0.00%       0.000us       0.000us     576.000us        13.73%     576.000us     115.200us           0 b           0 b           0 b           0 b             5  \n",
            "void cudnn::cnn::kern_precompute_indices<false>(int*...         0.00%       0.000us         0.00%       0.000us       0.000us       3.000us         0.07%       3.000us       3.000us           0 b           0 b           0 b           0 b             1  \n",
            "void precomputed_convolve_sgemm<float, 1024, 5, 5, 4...         0.00%       0.000us         0.00%       0.000us       0.000us      35.000us         0.83%      35.000us      35.000us           0 b           0 b           0 b           0 b             1  \n",
            "void at::native::reduce_kernel<512, 1, at::native::R...         0.00%       0.000us         0.00%       0.000us       0.000us       9.000us         0.21%       9.000us       9.000us           0 b           0 b           0 b           0 b             1  \n",
            "std::enable_if<!(false), void>::type internal::gemvx...         0.00%       0.000us         0.00%       0.000us       0.000us      11.000us         0.26%      11.000us      11.000us           0 b           0 b           0 b           0 b             1  \n",
            "std::enable_if<!(false), void>::type internal::gemvx...         0.00%       0.000us         0.00%       0.000us       0.000us      22.000us         0.52%      22.000us      11.000us           0 b           0 b           0 b           0 b             2  \n",
            "void (anonymous namespace)::softmax_warp_forward<flo...         0.00%       0.000us         0.00%       0.000us       0.000us       5.000us         0.12%       5.000us       5.000us           0 b           0 b           0 b           0 b             1  \n",
            "-------------------------------------------------------  ------------  ------------  ------------  ------------  ------------  ------------  ------------  ------------  ------------  ------------  ------------  ------------  ------------  ------------  \n",
            "Self CPU time total: 13.412ms\n",
            "Self CUDA time total: 4.196ms\n",
            "\n"
          ]
        }
      ],
      "source": [
        "import torch.profiler\n",
        "# new_model=new_model.to(\"cuda\")\n",
        "\n",
        "input_size = (1, 3, 64, 64)\n",
        "\n",
        "\n",
        "input_data = torch.randn(input_size)\n",
        "input_data = input_data.cuda()\n",
        "\n",
        "\n",
        "with torch.no_grad():\n",
        "    _ = pruned_model_structured(input_data)\n",
        "\n",
        "\n",
        "with torch.profiler.profile(profile_memory=True, record_shapes=True) as prof:\n",
        "    with torch.profiler.record_function(\"model_inference\"):\n",
        "        _ = pruned_model_structured(input_data)\n",
        "\n",
        "print(prof.key_averages().table(sort_by=\"cpu_time_total\"))\n",
        "\n"
      ]
    }
  ],
  "metadata": {
    "accelerator": "GPU",
    "colab": {
      "gpuType": "T4",
      "provenance": []
    },
    "kernelspec": {
      "display_name": "Python 3",
      "name": "python3"
    },
    "language_info": {
      "name": "python"
    },
    "widgets": {
      "application/vnd.jupyter.widget-state+json": {
        "fc9bb3f0448d4190b5e3eb3870fdc931": {
          "model_module": "@jupyter-widgets/controls",
          "model_name": "HBoxModel",
          "model_module_version": "1.5.0",
          "state": {
            "_dom_classes": [],
            "_model_module": "@jupyter-widgets/controls",
            "_model_module_version": "1.5.0",
            "_model_name": "HBoxModel",
            "_view_count": null,
            "_view_module": "@jupyter-widgets/controls",
            "_view_module_version": "1.5.0",
            "_view_name": "HBoxView",
            "box_style": "",
            "children": [
              "IPY_MODEL_fae84a88d2c2471f93f04eec01f70195",
              "IPY_MODEL_ba58ae9cf6db4e128880d27dd3d4892c",
              "IPY_MODEL_c9034beaa67e441f89ee8f0f2280f338"
            ],
            "layout": "IPY_MODEL_a21d5167fab645a2a325ec80a03ecb26"
          }
        },
        "fae84a88d2c2471f93f04eec01f70195": {
          "model_module": "@jupyter-widgets/controls",
          "model_name": "HTMLModel",
          "model_module_version": "1.5.0",
          "state": {
            "_dom_classes": [],
            "_model_module": "@jupyter-widgets/controls",
            "_model_module_version": "1.5.0",
            "_model_name": "HTMLModel",
            "_view_count": null,
            "_view_module": "@jupyter-widgets/controls",
            "_view_module_version": "1.5.0",
            "_view_name": "HTMLView",
            "description": "",
            "description_tooltip": null,
            "layout": "IPY_MODEL_d8f972ca79394ce69aeae5fa15a112c9",
            "placeholder": "​",
            "style": "IPY_MODEL_47eb9261482b4d0fbef175eae2ea8616",
            "value": "Downloading readme: 100%"
          }
        },
        "ba58ae9cf6db4e128880d27dd3d4892c": {
          "model_module": "@jupyter-widgets/controls",
          "model_name": "FloatProgressModel",
          "model_module_version": "1.5.0",
          "state": {
            "_dom_classes": [],
            "_model_module": "@jupyter-widgets/controls",
            "_model_module_version": "1.5.0",
            "_model_name": "FloatProgressModel",
            "_view_count": null,
            "_view_module": "@jupyter-widgets/controls",
            "_view_module_version": "1.5.0",
            "_view_name": "ProgressView",
            "bar_style": "success",
            "description": "",
            "description_tooltip": null,
            "layout": "IPY_MODEL_4c972b8304e2473698e829c1da2fdab1",
            "max": 3900,
            "min": 0,
            "orientation": "horizontal",
            "style": "IPY_MODEL_e38ad1cac12a4e428774aea3e5a532e2",
            "value": 3900
          }
        },
        "c9034beaa67e441f89ee8f0f2280f338": {
          "model_module": "@jupyter-widgets/controls",
          "model_name": "HTMLModel",
          "model_module_version": "1.5.0",
          "state": {
            "_dom_classes": [],
            "_model_module": "@jupyter-widgets/controls",
            "_model_module_version": "1.5.0",
            "_model_name": "HTMLModel",
            "_view_count": null,
            "_view_module": "@jupyter-widgets/controls",
            "_view_module_version": "1.5.0",
            "_view_name": "HTMLView",
            "description": "",
            "description_tooltip": null,
            "layout": "IPY_MODEL_d391ef3290944da5804737aaabed5728",
            "placeholder": "​",
            "style": "IPY_MODEL_fe116c3679b54ad5b6b22c086df9c6a9",
            "value": " 3.90k/3.90k [00:00&lt;00:00, 274kB/s]"
          }
        },
        "a21d5167fab645a2a325ec80a03ecb26": {
          "model_module": "@jupyter-widgets/base",
          "model_name": "LayoutModel",
          "model_module_version": "1.2.0",
          "state": {
            "_model_module": "@jupyter-widgets/base",
            "_model_module_version": "1.2.0",
            "_model_name": "LayoutModel",
            "_view_count": null,
            "_view_module": "@jupyter-widgets/base",
            "_view_module_version": "1.2.0",
            "_view_name": "LayoutView",
            "align_content": null,
            "align_items": null,
            "align_self": null,
            "border": null,
            "bottom": null,
            "display": null,
            "flex": null,
            "flex_flow": null,
            "grid_area": null,
            "grid_auto_columns": null,
            "grid_auto_flow": null,
            "grid_auto_rows": null,
            "grid_column": null,
            "grid_gap": null,
            "grid_row": null,
            "grid_template_areas": null,
            "grid_template_columns": null,
            "grid_template_rows": null,
            "height": null,
            "justify_content": null,
            "justify_items": null,
            "left": null,
            "margin": null,
            "max_height": null,
            "max_width": null,
            "min_height": null,
            "min_width": null,
            "object_fit": null,
            "object_position": null,
            "order": null,
            "overflow": null,
            "overflow_x": null,
            "overflow_y": null,
            "padding": null,
            "right": null,
            "top": null,
            "visibility": null,
            "width": null
          }
        },
        "d8f972ca79394ce69aeae5fa15a112c9": {
          "model_module": "@jupyter-widgets/base",
          "model_name": "LayoutModel",
          "model_module_version": "1.2.0",
          "state": {
            "_model_module": "@jupyter-widgets/base",
            "_model_module_version": "1.2.0",
            "_model_name": "LayoutModel",
            "_view_count": null,
            "_view_module": "@jupyter-widgets/base",
            "_view_module_version": "1.2.0",
            "_view_name": "LayoutView",
            "align_content": null,
            "align_items": null,
            "align_self": null,
            "border": null,
            "bottom": null,
            "display": null,
            "flex": null,
            "flex_flow": null,
            "grid_area": null,
            "grid_auto_columns": null,
            "grid_auto_flow": null,
            "grid_auto_rows": null,
            "grid_column": null,
            "grid_gap": null,
            "grid_row": null,
            "grid_template_areas": null,
            "grid_template_columns": null,
            "grid_template_rows": null,
            "height": null,
            "justify_content": null,
            "justify_items": null,
            "left": null,
            "margin": null,
            "max_height": null,
            "max_width": null,
            "min_height": null,
            "min_width": null,
            "object_fit": null,
            "object_position": null,
            "order": null,
            "overflow": null,
            "overflow_x": null,
            "overflow_y": null,
            "padding": null,
            "right": null,
            "top": null,
            "visibility": null,
            "width": null
          }
        },
        "47eb9261482b4d0fbef175eae2ea8616": {
          "model_module": "@jupyter-widgets/controls",
          "model_name": "DescriptionStyleModel",
          "model_module_version": "1.5.0",
          "state": {
            "_model_module": "@jupyter-widgets/controls",
            "_model_module_version": "1.5.0",
            "_model_name": "DescriptionStyleModel",
            "_view_count": null,
            "_view_module": "@jupyter-widgets/base",
            "_view_module_version": "1.2.0",
            "_view_name": "StyleView",
            "description_width": ""
          }
        },
        "4c972b8304e2473698e829c1da2fdab1": {
          "model_module": "@jupyter-widgets/base",
          "model_name": "LayoutModel",
          "model_module_version": "1.2.0",
          "state": {
            "_model_module": "@jupyter-widgets/base",
            "_model_module_version": "1.2.0",
            "_model_name": "LayoutModel",
            "_view_count": null,
            "_view_module": "@jupyter-widgets/base",
            "_view_module_version": "1.2.0",
            "_view_name": "LayoutView",
            "align_content": null,
            "align_items": null,
            "align_self": null,
            "border": null,
            "bottom": null,
            "display": null,
            "flex": null,
            "flex_flow": null,
            "grid_area": null,
            "grid_auto_columns": null,
            "grid_auto_flow": null,
            "grid_auto_rows": null,
            "grid_column": null,
            "grid_gap": null,
            "grid_row": null,
            "grid_template_areas": null,
            "grid_template_columns": null,
            "grid_template_rows": null,
            "height": null,
            "justify_content": null,
            "justify_items": null,
            "left": null,
            "margin": null,
            "max_height": null,
            "max_width": null,
            "min_height": null,
            "min_width": null,
            "object_fit": null,
            "object_position": null,
            "order": null,
            "overflow": null,
            "overflow_x": null,
            "overflow_y": null,
            "padding": null,
            "right": null,
            "top": null,
            "visibility": null,
            "width": null
          }
        },
        "e38ad1cac12a4e428774aea3e5a532e2": {
          "model_module": "@jupyter-widgets/controls",
          "model_name": "ProgressStyleModel",
          "model_module_version": "1.5.0",
          "state": {
            "_model_module": "@jupyter-widgets/controls",
            "_model_module_version": "1.5.0",
            "_model_name": "ProgressStyleModel",
            "_view_count": null,
            "_view_module": "@jupyter-widgets/base",
            "_view_module_version": "1.2.0",
            "_view_name": "StyleView",
            "bar_color": null,
            "description_width": ""
          }
        },
        "d391ef3290944da5804737aaabed5728": {
          "model_module": "@jupyter-widgets/base",
          "model_name": "LayoutModel",
          "model_module_version": "1.2.0",
          "state": {
            "_model_module": "@jupyter-widgets/base",
            "_model_module_version": "1.2.0",
            "_model_name": "LayoutModel",
            "_view_count": null,
            "_view_module": "@jupyter-widgets/base",
            "_view_module_version": "1.2.0",
            "_view_name": "LayoutView",
            "align_content": null,
            "align_items": null,
            "align_self": null,
            "border": null,
            "bottom": null,
            "display": null,
            "flex": null,
            "flex_flow": null,
            "grid_area": null,
            "grid_auto_columns": null,
            "grid_auto_flow": null,
            "grid_auto_rows": null,
            "grid_column": null,
            "grid_gap": null,
            "grid_row": null,
            "grid_template_areas": null,
            "grid_template_columns": null,
            "grid_template_rows": null,
            "height": null,
            "justify_content": null,
            "justify_items": null,
            "left": null,
            "margin": null,
            "max_height": null,
            "max_width": null,
            "min_height": null,
            "min_width": null,
            "object_fit": null,
            "object_position": null,
            "order": null,
            "overflow": null,
            "overflow_x": null,
            "overflow_y": null,
            "padding": null,
            "right": null,
            "top": null,
            "visibility": null,
            "width": null
          }
        },
        "fe116c3679b54ad5b6b22c086df9c6a9": {
          "model_module": "@jupyter-widgets/controls",
          "model_name": "DescriptionStyleModel",
          "model_module_version": "1.5.0",
          "state": {
            "_model_module": "@jupyter-widgets/controls",
            "_model_module_version": "1.5.0",
            "_model_name": "DescriptionStyleModel",
            "_view_count": null,
            "_view_module": "@jupyter-widgets/base",
            "_view_module_version": "1.2.0",
            "_view_name": "StyleView",
            "description_width": ""
          }
        },
        "aed7776f8a864079b33ab39675d0a426": {
          "model_module": "@jupyter-widgets/controls",
          "model_name": "HBoxModel",
          "model_module_version": "1.5.0",
          "state": {
            "_dom_classes": [],
            "_model_module": "@jupyter-widgets/controls",
            "_model_module_version": "1.5.0",
            "_model_name": "HBoxModel",
            "_view_count": null,
            "_view_module": "@jupyter-widgets/controls",
            "_view_module_version": "1.5.0",
            "_view_name": "HBoxView",
            "box_style": "",
            "children": [
              "IPY_MODEL_4cfbee0144904d8991f1b1922bc79895",
              "IPY_MODEL_7889bb99ff764476a779b638ac98cd93",
              "IPY_MODEL_5a078884096b4ed595f137005669047e"
            ],
            "layout": "IPY_MODEL_91fd51e28ac945be9ccaa076eed61077"
          }
        },
        "4cfbee0144904d8991f1b1922bc79895": {
          "model_module": "@jupyter-widgets/controls",
          "model_name": "HTMLModel",
          "model_module_version": "1.5.0",
          "state": {
            "_dom_classes": [],
            "_model_module": "@jupyter-widgets/controls",
            "_model_module_version": "1.5.0",
            "_model_name": "HTMLModel",
            "_view_count": null,
            "_view_module": "@jupyter-widgets/controls",
            "_view_module_version": "1.5.0",
            "_view_name": "HTMLView",
            "description": "",
            "description_tooltip": null,
            "layout": "IPY_MODEL_559683410d21423d947e6a9a70feb720",
            "placeholder": "​",
            "style": "IPY_MODEL_e5a23b72b8094111a25bbf6868c698ce",
            "value": "Downloading metadata: 100%"
          }
        },
        "7889bb99ff764476a779b638ac98cd93": {
          "model_module": "@jupyter-widgets/controls",
          "model_name": "FloatProgressModel",
          "model_module_version": "1.5.0",
          "state": {
            "_dom_classes": [],
            "_model_module": "@jupyter-widgets/controls",
            "_model_module_version": "1.5.0",
            "_model_name": "FloatProgressModel",
            "_view_count": null,
            "_view_module": "@jupyter-widgets/controls",
            "_view_module_version": "1.5.0",
            "_view_name": "ProgressView",
            "bar_style": "success",
            "description": "",
            "description_tooltip": null,
            "layout": "IPY_MODEL_7507ebec408c4e32a89ce7d47df577ae",
            "max": 3522,
            "min": 0,
            "orientation": "horizontal",
            "style": "IPY_MODEL_5cc2bcca7c5647898f870edf89598b74",
            "value": 3522
          }
        },
        "5a078884096b4ed595f137005669047e": {
          "model_module": "@jupyter-widgets/controls",
          "model_name": "HTMLModel",
          "model_module_version": "1.5.0",
          "state": {
            "_dom_classes": [],
            "_model_module": "@jupyter-widgets/controls",
            "_model_module_version": "1.5.0",
            "_model_name": "HTMLModel",
            "_view_count": null,
            "_view_module": "@jupyter-widgets/controls",
            "_view_module_version": "1.5.0",
            "_view_name": "HTMLView",
            "description": "",
            "description_tooltip": null,
            "layout": "IPY_MODEL_e736b7c98ad440d489acfb9016dba35b",
            "placeholder": "​",
            "style": "IPY_MODEL_f3bcbc66858042b381acf701cc078029",
            "value": " 3.52k/3.52k [00:00&lt;00:00, 273kB/s]"
          }
        },
        "91fd51e28ac945be9ccaa076eed61077": {
          "model_module": "@jupyter-widgets/base",
          "model_name": "LayoutModel",
          "model_module_version": "1.2.0",
          "state": {
            "_model_module": "@jupyter-widgets/base",
            "_model_module_version": "1.2.0",
            "_model_name": "LayoutModel",
            "_view_count": null,
            "_view_module": "@jupyter-widgets/base",
            "_view_module_version": "1.2.0",
            "_view_name": "LayoutView",
            "align_content": null,
            "align_items": null,
            "align_self": null,
            "border": null,
            "bottom": null,
            "display": null,
            "flex": null,
            "flex_flow": null,
            "grid_area": null,
            "grid_auto_columns": null,
            "grid_auto_flow": null,
            "grid_auto_rows": null,
            "grid_column": null,
            "grid_gap": null,
            "grid_row": null,
            "grid_template_areas": null,
            "grid_template_columns": null,
            "grid_template_rows": null,
            "height": null,
            "justify_content": null,
            "justify_items": null,
            "left": null,
            "margin": null,
            "max_height": null,
            "max_width": null,
            "min_height": null,
            "min_width": null,
            "object_fit": null,
            "object_position": null,
            "order": null,
            "overflow": null,
            "overflow_x": null,
            "overflow_y": null,
            "padding": null,
            "right": null,
            "top": null,
            "visibility": null,
            "width": null
          }
        },
        "559683410d21423d947e6a9a70feb720": {
          "model_module": "@jupyter-widgets/base",
          "model_name": "LayoutModel",
          "model_module_version": "1.2.0",
          "state": {
            "_model_module": "@jupyter-widgets/base",
            "_model_module_version": "1.2.0",
            "_model_name": "LayoutModel",
            "_view_count": null,
            "_view_module": "@jupyter-widgets/base",
            "_view_module_version": "1.2.0",
            "_view_name": "LayoutView",
            "align_content": null,
            "align_items": null,
            "align_self": null,
            "border": null,
            "bottom": null,
            "display": null,
            "flex": null,
            "flex_flow": null,
            "grid_area": null,
            "grid_auto_columns": null,
            "grid_auto_flow": null,
            "grid_auto_rows": null,
            "grid_column": null,
            "grid_gap": null,
            "grid_row": null,
            "grid_template_areas": null,
            "grid_template_columns": null,
            "grid_template_rows": null,
            "height": null,
            "justify_content": null,
            "justify_items": null,
            "left": null,
            "margin": null,
            "max_height": null,
            "max_width": null,
            "min_height": null,
            "min_width": null,
            "object_fit": null,
            "object_position": null,
            "order": null,
            "overflow": null,
            "overflow_x": null,
            "overflow_y": null,
            "padding": null,
            "right": null,
            "top": null,
            "visibility": null,
            "width": null
          }
        },
        "e5a23b72b8094111a25bbf6868c698ce": {
          "model_module": "@jupyter-widgets/controls",
          "model_name": "DescriptionStyleModel",
          "model_module_version": "1.5.0",
          "state": {
            "_model_module": "@jupyter-widgets/controls",
            "_model_module_version": "1.5.0",
            "_model_name": "DescriptionStyleModel",
            "_view_count": null,
            "_view_module": "@jupyter-widgets/base",
            "_view_module_version": "1.2.0",
            "_view_name": "StyleView",
            "description_width": ""
          }
        },
        "7507ebec408c4e32a89ce7d47df577ae": {
          "model_module": "@jupyter-widgets/base",
          "model_name": "LayoutModel",
          "model_module_version": "1.2.0",
          "state": {
            "_model_module": "@jupyter-widgets/base",
            "_model_module_version": "1.2.0",
            "_model_name": "LayoutModel",
            "_view_count": null,
            "_view_module": "@jupyter-widgets/base",
            "_view_module_version": "1.2.0",
            "_view_name": "LayoutView",
            "align_content": null,
            "align_items": null,
            "align_self": null,
            "border": null,
            "bottom": null,
            "display": null,
            "flex": null,
            "flex_flow": null,
            "grid_area": null,
            "grid_auto_columns": null,
            "grid_auto_flow": null,
            "grid_auto_rows": null,
            "grid_column": null,
            "grid_gap": null,
            "grid_row": null,
            "grid_template_areas": null,
            "grid_template_columns": null,
            "grid_template_rows": null,
            "height": null,
            "justify_content": null,
            "justify_items": null,
            "left": null,
            "margin": null,
            "max_height": null,
            "max_width": null,
            "min_height": null,
            "min_width": null,
            "object_fit": null,
            "object_position": null,
            "order": null,
            "overflow": null,
            "overflow_x": null,
            "overflow_y": null,
            "padding": null,
            "right": null,
            "top": null,
            "visibility": null,
            "width": null
          }
        },
        "5cc2bcca7c5647898f870edf89598b74": {
          "model_module": "@jupyter-widgets/controls",
          "model_name": "ProgressStyleModel",
          "model_module_version": "1.5.0",
          "state": {
            "_model_module": "@jupyter-widgets/controls",
            "_model_module_version": "1.5.0",
            "_model_name": "ProgressStyleModel",
            "_view_count": null,
            "_view_module": "@jupyter-widgets/base",
            "_view_module_version": "1.2.0",
            "_view_name": "StyleView",
            "bar_color": null,
            "description_width": ""
          }
        },
        "e736b7c98ad440d489acfb9016dba35b": {
          "model_module": "@jupyter-widgets/base",
          "model_name": "LayoutModel",
          "model_module_version": "1.2.0",
          "state": {
            "_model_module": "@jupyter-widgets/base",
            "_model_module_version": "1.2.0",
            "_model_name": "LayoutModel",
            "_view_count": null,
            "_view_module": "@jupyter-widgets/base",
            "_view_module_version": "1.2.0",
            "_view_name": "LayoutView",
            "align_content": null,
            "align_items": null,
            "align_self": null,
            "border": null,
            "bottom": null,
            "display": null,
            "flex": null,
            "flex_flow": null,
            "grid_area": null,
            "grid_auto_columns": null,
            "grid_auto_flow": null,
            "grid_auto_rows": null,
            "grid_column": null,
            "grid_gap": null,
            "grid_row": null,
            "grid_template_areas": null,
            "grid_template_columns": null,
            "grid_template_rows": null,
            "height": null,
            "justify_content": null,
            "justify_items": null,
            "left": null,
            "margin": null,
            "max_height": null,
            "max_width": null,
            "min_height": null,
            "min_width": null,
            "object_fit": null,
            "object_position": null,
            "order": null,
            "overflow": null,
            "overflow_x": null,
            "overflow_y": null,
            "padding": null,
            "right": null,
            "top": null,
            "visibility": null,
            "width": null
          }
        },
        "f3bcbc66858042b381acf701cc078029": {
          "model_module": "@jupyter-widgets/controls",
          "model_name": "DescriptionStyleModel",
          "model_module_version": "1.5.0",
          "state": {
            "_model_module": "@jupyter-widgets/controls",
            "_model_module_version": "1.5.0",
            "_model_name": "DescriptionStyleModel",
            "_view_count": null,
            "_view_module": "@jupyter-widgets/base",
            "_view_module_version": "1.2.0",
            "_view_name": "StyleView",
            "description_width": ""
          }
        },
        "572e5cf68c4646768561bd4ab5e3e273": {
          "model_module": "@jupyter-widgets/controls",
          "model_name": "HBoxModel",
          "model_module_version": "1.5.0",
          "state": {
            "_dom_classes": [],
            "_model_module": "@jupyter-widgets/controls",
            "_model_module_version": "1.5.0",
            "_model_name": "HBoxModel",
            "_view_count": null,
            "_view_module": "@jupyter-widgets/controls",
            "_view_module_version": "1.5.0",
            "_view_name": "HBoxView",
            "box_style": "",
            "children": [
              "IPY_MODEL_1cea9c68fb00491f95195b1466f68312",
              "IPY_MODEL_52d99a273eb04cb8a93bb5638689cb51",
              "IPY_MODEL_b0dab4f0cec44f459f2acfa2caceb596"
            ],
            "layout": "IPY_MODEL_a245bdf9ca434dfc96da4dee3f172783"
          }
        },
        "1cea9c68fb00491f95195b1466f68312": {
          "model_module": "@jupyter-widgets/controls",
          "model_name": "HTMLModel",
          "model_module_version": "1.5.0",
          "state": {
            "_dom_classes": [],
            "_model_module": "@jupyter-widgets/controls",
            "_model_module_version": "1.5.0",
            "_model_name": "HTMLModel",
            "_view_count": null,
            "_view_module": "@jupyter-widgets/controls",
            "_view_module_version": "1.5.0",
            "_view_name": "HTMLView",
            "description": "",
            "description_tooltip": null,
            "layout": "IPY_MODEL_51c843e30ea14000a6d53a8786307bba",
            "placeholder": "​",
            "style": "IPY_MODEL_4a50ff8c06c44841b81a77a4e1f08e45",
            "value": "Downloading data: 100%"
          }
        },
        "52d99a273eb04cb8a93bb5638689cb51": {
          "model_module": "@jupyter-widgets/controls",
          "model_name": "FloatProgressModel",
          "model_module_version": "1.5.0",
          "state": {
            "_dom_classes": [],
            "_model_module": "@jupyter-widgets/controls",
            "_model_module_version": "1.5.0",
            "_model_name": "FloatProgressModel",
            "_view_count": null,
            "_view_module": "@jupyter-widgets/controls",
            "_view_module_version": "1.5.0",
            "_view_name": "ProgressView",
            "bar_style": "success",
            "description": "",
            "description_tooltip": null,
            "layout": "IPY_MODEL_e8477f2146a147feb3e793535bb2338c",
            "max": 146480414,
            "min": 0,
            "orientation": "horizontal",
            "style": "IPY_MODEL_c185e182fde2494d92e796b797ed9012",
            "value": 146480414
          }
        },
        "b0dab4f0cec44f459f2acfa2caceb596": {
          "model_module": "@jupyter-widgets/controls",
          "model_name": "HTMLModel",
          "model_module_version": "1.5.0",
          "state": {
            "_dom_classes": [],
            "_model_module": "@jupyter-widgets/controls",
            "_model_module_version": "1.5.0",
            "_model_name": "HTMLModel",
            "_view_count": null,
            "_view_module": "@jupyter-widgets/controls",
            "_view_module_version": "1.5.0",
            "_view_name": "HTMLView",
            "description": "",
            "description_tooltip": null,
            "layout": "IPY_MODEL_ca3073cadf654d7fb0a21ed23c479e00",
            "placeholder": "​",
            "style": "IPY_MODEL_884f81f096ad4cc5b580d9d0d9d33600",
            "value": " 146M/146M [00:05&lt;00:00, 32.7MB/s]"
          }
        },
        "a245bdf9ca434dfc96da4dee3f172783": {
          "model_module": "@jupyter-widgets/base",
          "model_name": "LayoutModel",
          "model_module_version": "1.2.0",
          "state": {
            "_model_module": "@jupyter-widgets/base",
            "_model_module_version": "1.2.0",
            "_model_name": "LayoutModel",
            "_view_count": null,
            "_view_module": "@jupyter-widgets/base",
            "_view_module_version": "1.2.0",
            "_view_name": "LayoutView",
            "align_content": null,
            "align_items": null,
            "align_self": null,
            "border": null,
            "bottom": null,
            "display": null,
            "flex": null,
            "flex_flow": null,
            "grid_area": null,
            "grid_auto_columns": null,
            "grid_auto_flow": null,
            "grid_auto_rows": null,
            "grid_column": null,
            "grid_gap": null,
            "grid_row": null,
            "grid_template_areas": null,
            "grid_template_columns": null,
            "grid_template_rows": null,
            "height": null,
            "justify_content": null,
            "justify_items": null,
            "left": null,
            "margin": null,
            "max_height": null,
            "max_width": null,
            "min_height": null,
            "min_width": null,
            "object_fit": null,
            "object_position": null,
            "order": null,
            "overflow": null,
            "overflow_x": null,
            "overflow_y": null,
            "padding": null,
            "right": null,
            "top": null,
            "visibility": null,
            "width": null
          }
        },
        "51c843e30ea14000a6d53a8786307bba": {
          "model_module": "@jupyter-widgets/base",
          "model_name": "LayoutModel",
          "model_module_version": "1.2.0",
          "state": {
            "_model_module": "@jupyter-widgets/base",
            "_model_module_version": "1.2.0",
            "_model_name": "LayoutModel",
            "_view_count": null,
            "_view_module": "@jupyter-widgets/base",
            "_view_module_version": "1.2.0",
            "_view_name": "LayoutView",
            "align_content": null,
            "align_items": null,
            "align_self": null,
            "border": null,
            "bottom": null,
            "display": null,
            "flex": null,
            "flex_flow": null,
            "grid_area": null,
            "grid_auto_columns": null,
            "grid_auto_flow": null,
            "grid_auto_rows": null,
            "grid_column": null,
            "grid_gap": null,
            "grid_row": null,
            "grid_template_areas": null,
            "grid_template_columns": null,
            "grid_template_rows": null,
            "height": null,
            "justify_content": null,
            "justify_items": null,
            "left": null,
            "margin": null,
            "max_height": null,
            "max_width": null,
            "min_height": null,
            "min_width": null,
            "object_fit": null,
            "object_position": null,
            "order": null,
            "overflow": null,
            "overflow_x": null,
            "overflow_y": null,
            "padding": null,
            "right": null,
            "top": null,
            "visibility": null,
            "width": null
          }
        },
        "4a50ff8c06c44841b81a77a4e1f08e45": {
          "model_module": "@jupyter-widgets/controls",
          "model_name": "DescriptionStyleModel",
          "model_module_version": "1.5.0",
          "state": {
            "_model_module": "@jupyter-widgets/controls",
            "_model_module_version": "1.5.0",
            "_model_name": "DescriptionStyleModel",
            "_view_count": null,
            "_view_module": "@jupyter-widgets/base",
            "_view_module_version": "1.2.0",
            "_view_name": "StyleView",
            "description_width": ""
          }
        },
        "e8477f2146a147feb3e793535bb2338c": {
          "model_module": "@jupyter-widgets/base",
          "model_name": "LayoutModel",
          "model_module_version": "1.2.0",
          "state": {
            "_model_module": "@jupyter-widgets/base",
            "_model_module_version": "1.2.0",
            "_model_name": "LayoutModel",
            "_view_count": null,
            "_view_module": "@jupyter-widgets/base",
            "_view_module_version": "1.2.0",
            "_view_name": "LayoutView",
            "align_content": null,
            "align_items": null,
            "align_self": null,
            "border": null,
            "bottom": null,
            "display": null,
            "flex": null,
            "flex_flow": null,
            "grid_area": null,
            "grid_auto_columns": null,
            "grid_auto_flow": null,
            "grid_auto_rows": null,
            "grid_column": null,
            "grid_gap": null,
            "grid_row": null,
            "grid_template_areas": null,
            "grid_template_columns": null,
            "grid_template_rows": null,
            "height": null,
            "justify_content": null,
            "justify_items": null,
            "left": null,
            "margin": null,
            "max_height": null,
            "max_width": null,
            "min_height": null,
            "min_width": null,
            "object_fit": null,
            "object_position": null,
            "order": null,
            "overflow": null,
            "overflow_x": null,
            "overflow_y": null,
            "padding": null,
            "right": null,
            "top": null,
            "visibility": null,
            "width": null
          }
        },
        "c185e182fde2494d92e796b797ed9012": {
          "model_module": "@jupyter-widgets/controls",
          "model_name": "ProgressStyleModel",
          "model_module_version": "1.5.0",
          "state": {
            "_model_module": "@jupyter-widgets/controls",
            "_model_module_version": "1.5.0",
            "_model_name": "ProgressStyleModel",
            "_view_count": null,
            "_view_module": "@jupyter-widgets/base",
            "_view_module_version": "1.2.0",
            "_view_name": "StyleView",
            "bar_color": null,
            "description_width": ""
          }
        },
        "ca3073cadf654d7fb0a21ed23c479e00": {
          "model_module": "@jupyter-widgets/base",
          "model_name": "LayoutModel",
          "model_module_version": "1.2.0",
          "state": {
            "_model_module": "@jupyter-widgets/base",
            "_model_module_version": "1.2.0",
            "_model_name": "LayoutModel",
            "_view_count": null,
            "_view_module": "@jupyter-widgets/base",
            "_view_module_version": "1.2.0",
            "_view_name": "LayoutView",
            "align_content": null,
            "align_items": null,
            "align_self": null,
            "border": null,
            "bottom": null,
            "display": null,
            "flex": null,
            "flex_flow": null,
            "grid_area": null,
            "grid_auto_columns": null,
            "grid_auto_flow": null,
            "grid_auto_rows": null,
            "grid_column": null,
            "grid_gap": null,
            "grid_row": null,
            "grid_template_areas": null,
            "grid_template_columns": null,
            "grid_template_rows": null,
            "height": null,
            "justify_content": null,
            "justify_items": null,
            "left": null,
            "margin": null,
            "max_height": null,
            "max_width": null,
            "min_height": null,
            "min_width": null,
            "object_fit": null,
            "object_position": null,
            "order": null,
            "overflow": null,
            "overflow_x": null,
            "overflow_y": null,
            "padding": null,
            "right": null,
            "top": null,
            "visibility": null,
            "width": null
          }
        },
        "884f81f096ad4cc5b580d9d0d9d33600": {
          "model_module": "@jupyter-widgets/controls",
          "model_name": "DescriptionStyleModel",
          "model_module_version": "1.5.0",
          "state": {
            "_model_module": "@jupyter-widgets/controls",
            "_model_module_version": "1.5.0",
            "_model_name": "DescriptionStyleModel",
            "_view_count": null,
            "_view_module": "@jupyter-widgets/base",
            "_view_module_version": "1.2.0",
            "_view_name": "StyleView",
            "description_width": ""
          }
        },
        "eef2f4e9a60d4d76a2cb080e87fd622e": {
          "model_module": "@jupyter-widgets/controls",
          "model_name": "HBoxModel",
          "model_module_version": "1.5.0",
          "state": {
            "_dom_classes": [],
            "_model_module": "@jupyter-widgets/controls",
            "_model_module_version": "1.5.0",
            "_model_name": "HBoxModel",
            "_view_count": null,
            "_view_module": "@jupyter-widgets/controls",
            "_view_module_version": "1.5.0",
            "_view_name": "HBoxView",
            "box_style": "",
            "children": [
              "IPY_MODEL_4217a8fe7617409abc4515a73103ebe6",
              "IPY_MODEL_78eea227fb124385b9f1d37173ff6e94",
              "IPY_MODEL_d206e7b39958411c8b2472dfbd7aa445"
            ],
            "layout": "IPY_MODEL_d0ee1d691db246adb7a441c65bc02510"
          }
        },
        "4217a8fe7617409abc4515a73103ebe6": {
          "model_module": "@jupyter-widgets/controls",
          "model_name": "HTMLModel",
          "model_module_version": "1.5.0",
          "state": {
            "_dom_classes": [],
            "_model_module": "@jupyter-widgets/controls",
            "_model_module_version": "1.5.0",
            "_model_name": "HTMLModel",
            "_view_count": null,
            "_view_module": "@jupyter-widgets/controls",
            "_view_module_version": "1.5.0",
            "_view_name": "HTMLView",
            "description": "",
            "description_tooltip": null,
            "layout": "IPY_MODEL_e33961b4a34448a39241d0ae4bab14ef",
            "placeholder": "​",
            "style": "IPY_MODEL_aaf63f4474dd4c3397d4d9b10722473f",
            "value": "Downloading data: 100%"
          }
        },
        "78eea227fb124385b9f1d37173ff6e94": {
          "model_module": "@jupyter-widgets/controls",
          "model_name": "FloatProgressModel",
          "model_module_version": "1.5.0",
          "state": {
            "_dom_classes": [],
            "_model_module": "@jupyter-widgets/controls",
            "_model_module_version": "1.5.0",
            "_model_name": "FloatProgressModel",
            "_view_count": null,
            "_view_module": "@jupyter-widgets/controls",
            "_view_module_version": "1.5.0",
            "_view_name": "ProgressView",
            "bar_style": "success",
            "description": "",
            "description_tooltip": null,
            "layout": "IPY_MODEL_99a903b538a74d4aa29548230589159c",
            "max": 14587497,
            "min": 0,
            "orientation": "horizontal",
            "style": "IPY_MODEL_653786e6acf744ffa3f296579b02b848",
            "value": 14587497
          }
        },
        "d206e7b39958411c8b2472dfbd7aa445": {
          "model_module": "@jupyter-widgets/controls",
          "model_name": "HTMLModel",
          "model_module_version": "1.5.0",
          "state": {
            "_dom_classes": [],
            "_model_module": "@jupyter-widgets/controls",
            "_model_module_version": "1.5.0",
            "_model_name": "HTMLModel",
            "_view_count": null,
            "_view_module": "@jupyter-widgets/controls",
            "_view_module_version": "1.5.0",
            "_view_name": "HTMLView",
            "description": "",
            "description_tooltip": null,
            "layout": "IPY_MODEL_79a749226cd74f998282c4ac5df5f1aa",
            "placeholder": "​",
            "style": "IPY_MODEL_aa87f7cbc7b94a9195a5933062d33d26",
            "value": " 14.6M/14.6M [00:00&lt;00:00, 23.7MB/s]"
          }
        },
        "d0ee1d691db246adb7a441c65bc02510": {
          "model_module": "@jupyter-widgets/base",
          "model_name": "LayoutModel",
          "model_module_version": "1.2.0",
          "state": {
            "_model_module": "@jupyter-widgets/base",
            "_model_module_version": "1.2.0",
            "_model_name": "LayoutModel",
            "_view_count": null,
            "_view_module": "@jupyter-widgets/base",
            "_view_module_version": "1.2.0",
            "_view_name": "LayoutView",
            "align_content": null,
            "align_items": null,
            "align_self": null,
            "border": null,
            "bottom": null,
            "display": null,
            "flex": null,
            "flex_flow": null,
            "grid_area": null,
            "grid_auto_columns": null,
            "grid_auto_flow": null,
            "grid_auto_rows": null,
            "grid_column": null,
            "grid_gap": null,
            "grid_row": null,
            "grid_template_areas": null,
            "grid_template_columns": null,
            "grid_template_rows": null,
            "height": null,
            "justify_content": null,
            "justify_items": null,
            "left": null,
            "margin": null,
            "max_height": null,
            "max_width": null,
            "min_height": null,
            "min_width": null,
            "object_fit": null,
            "object_position": null,
            "order": null,
            "overflow": null,
            "overflow_x": null,
            "overflow_y": null,
            "padding": null,
            "right": null,
            "top": null,
            "visibility": null,
            "width": null
          }
        },
        "e33961b4a34448a39241d0ae4bab14ef": {
          "model_module": "@jupyter-widgets/base",
          "model_name": "LayoutModel",
          "model_module_version": "1.2.0",
          "state": {
            "_model_module": "@jupyter-widgets/base",
            "_model_module_version": "1.2.0",
            "_model_name": "LayoutModel",
            "_view_count": null,
            "_view_module": "@jupyter-widgets/base",
            "_view_module_version": "1.2.0",
            "_view_name": "LayoutView",
            "align_content": null,
            "align_items": null,
            "align_self": null,
            "border": null,
            "bottom": null,
            "display": null,
            "flex": null,
            "flex_flow": null,
            "grid_area": null,
            "grid_auto_columns": null,
            "grid_auto_flow": null,
            "grid_auto_rows": null,
            "grid_column": null,
            "grid_gap": null,
            "grid_row": null,
            "grid_template_areas": null,
            "grid_template_columns": null,
            "grid_template_rows": null,
            "height": null,
            "justify_content": null,
            "justify_items": null,
            "left": null,
            "margin": null,
            "max_height": null,
            "max_width": null,
            "min_height": null,
            "min_width": null,
            "object_fit": null,
            "object_position": null,
            "order": null,
            "overflow": null,
            "overflow_x": null,
            "overflow_y": null,
            "padding": null,
            "right": null,
            "top": null,
            "visibility": null,
            "width": null
          }
        },
        "aaf63f4474dd4c3397d4d9b10722473f": {
          "model_module": "@jupyter-widgets/controls",
          "model_name": "DescriptionStyleModel",
          "model_module_version": "1.5.0",
          "state": {
            "_model_module": "@jupyter-widgets/controls",
            "_model_module_version": "1.5.0",
            "_model_name": "DescriptionStyleModel",
            "_view_count": null,
            "_view_module": "@jupyter-widgets/base",
            "_view_module_version": "1.2.0",
            "_view_name": "StyleView",
            "description_width": ""
          }
        },
        "99a903b538a74d4aa29548230589159c": {
          "model_module": "@jupyter-widgets/base",
          "model_name": "LayoutModel",
          "model_module_version": "1.2.0",
          "state": {
            "_model_module": "@jupyter-widgets/base",
            "_model_module_version": "1.2.0",
            "_model_name": "LayoutModel",
            "_view_count": null,
            "_view_module": "@jupyter-widgets/base",
            "_view_module_version": "1.2.0",
            "_view_name": "LayoutView",
            "align_content": null,
            "align_items": null,
            "align_self": null,
            "border": null,
            "bottom": null,
            "display": null,
            "flex": null,
            "flex_flow": null,
            "grid_area": null,
            "grid_auto_columns": null,
            "grid_auto_flow": null,
            "grid_auto_rows": null,
            "grid_column": null,
            "grid_gap": null,
            "grid_row": null,
            "grid_template_areas": null,
            "grid_template_columns": null,
            "grid_template_rows": null,
            "height": null,
            "justify_content": null,
            "justify_items": null,
            "left": null,
            "margin": null,
            "max_height": null,
            "max_width": null,
            "min_height": null,
            "min_width": null,
            "object_fit": null,
            "object_position": null,
            "order": null,
            "overflow": null,
            "overflow_x": null,
            "overflow_y": null,
            "padding": null,
            "right": null,
            "top": null,
            "visibility": null,
            "width": null
          }
        },
        "653786e6acf744ffa3f296579b02b848": {
          "model_module": "@jupyter-widgets/controls",
          "model_name": "ProgressStyleModel",
          "model_module_version": "1.5.0",
          "state": {
            "_model_module": "@jupyter-widgets/controls",
            "_model_module_version": "1.5.0",
            "_model_name": "ProgressStyleModel",
            "_view_count": null,
            "_view_module": "@jupyter-widgets/base",
            "_view_module_version": "1.2.0",
            "_view_name": "StyleView",
            "bar_color": null,
            "description_width": ""
          }
        },
        "79a749226cd74f998282c4ac5df5f1aa": {
          "model_module": "@jupyter-widgets/base",
          "model_name": "LayoutModel",
          "model_module_version": "1.2.0",
          "state": {
            "_model_module": "@jupyter-widgets/base",
            "_model_module_version": "1.2.0",
            "_model_name": "LayoutModel",
            "_view_count": null,
            "_view_module": "@jupyter-widgets/base",
            "_view_module_version": "1.2.0",
            "_view_name": "LayoutView",
            "align_content": null,
            "align_items": null,
            "align_self": null,
            "border": null,
            "bottom": null,
            "display": null,
            "flex": null,
            "flex_flow": null,
            "grid_area": null,
            "grid_auto_columns": null,
            "grid_auto_flow": null,
            "grid_auto_rows": null,
            "grid_column": null,
            "grid_gap": null,
            "grid_row": null,
            "grid_template_areas": null,
            "grid_template_columns": null,
            "grid_template_rows": null,
            "height": null,
            "justify_content": null,
            "justify_items": null,
            "left": null,
            "margin": null,
            "max_height": null,
            "max_width": null,
            "min_height": null,
            "min_width": null,
            "object_fit": null,
            "object_position": null,
            "order": null,
            "overflow": null,
            "overflow_x": null,
            "overflow_y": null,
            "padding": null,
            "right": null,
            "top": null,
            "visibility": null,
            "width": null
          }
        },
        "aa87f7cbc7b94a9195a5933062d33d26": {
          "model_module": "@jupyter-widgets/controls",
          "model_name": "DescriptionStyleModel",
          "model_module_version": "1.5.0",
          "state": {
            "_model_module": "@jupyter-widgets/controls",
            "_model_module_version": "1.5.0",
            "_model_name": "DescriptionStyleModel",
            "_view_count": null,
            "_view_module": "@jupyter-widgets/base",
            "_view_module_version": "1.2.0",
            "_view_name": "StyleView",
            "description_width": ""
          }
        },
        "a21a6addf79c4e62883ae978284203a2": {
          "model_module": "@jupyter-widgets/controls",
          "model_name": "HBoxModel",
          "model_module_version": "1.5.0",
          "state": {
            "_dom_classes": [],
            "_model_module": "@jupyter-widgets/controls",
            "_model_module_version": "1.5.0",
            "_model_name": "HBoxModel",
            "_view_count": null,
            "_view_module": "@jupyter-widgets/controls",
            "_view_module_version": "1.5.0",
            "_view_name": "HBoxView",
            "box_style": "",
            "children": [
              "IPY_MODEL_19c22ea1b56f4c5a8c2dcc1ee1a2b263",
              "IPY_MODEL_bf7da0288f1e4cdd85fb90284359d4fb",
              "IPY_MODEL_11476024d5154973aef4a942f7f03537"
            ],
            "layout": "IPY_MODEL_506db66fb7624a3688fa16e6a92e143e"
          }
        },
        "19c22ea1b56f4c5a8c2dcc1ee1a2b263": {
          "model_module": "@jupyter-widgets/controls",
          "model_name": "HTMLModel",
          "model_module_version": "1.5.0",
          "state": {
            "_dom_classes": [],
            "_model_module": "@jupyter-widgets/controls",
            "_model_module_version": "1.5.0",
            "_model_name": "HTMLModel",
            "_view_count": null,
            "_view_module": "@jupyter-widgets/controls",
            "_view_module_version": "1.5.0",
            "_view_name": "HTMLView",
            "description": "",
            "description_tooltip": null,
            "layout": "IPY_MODEL_75f2fc23af5a44e9bd52569481633ad0",
            "placeholder": "​",
            "style": "IPY_MODEL_985dd2565015474d88e2c20420216ad2",
            "value": "Generating train split: 100%"
          }
        },
        "bf7da0288f1e4cdd85fb90284359d4fb": {
          "model_module": "@jupyter-widgets/controls",
          "model_name": "FloatProgressModel",
          "model_module_version": "1.5.0",
          "state": {
            "_dom_classes": [],
            "_model_module": "@jupyter-widgets/controls",
            "_model_module_version": "1.5.0",
            "_model_name": "FloatProgressModel",
            "_view_count": null,
            "_view_module": "@jupyter-widgets/controls",
            "_view_module_version": "1.5.0",
            "_view_name": "ProgressView",
            "bar_style": "success",
            "description": "",
            "description_tooltip": null,
            "layout": "IPY_MODEL_7b6f8db9166940fb8ffbb3d69fbc9e71",
            "max": 100000,
            "min": 0,
            "orientation": "horizontal",
            "style": "IPY_MODEL_e7428f109da84f4bb41bfc703b4c0569",
            "value": 100000
          }
        },
        "11476024d5154973aef4a942f7f03537": {
          "model_module": "@jupyter-widgets/controls",
          "model_name": "HTMLModel",
          "model_module_version": "1.5.0",
          "state": {
            "_dom_classes": [],
            "_model_module": "@jupyter-widgets/controls",
            "_model_module_version": "1.5.0",
            "_model_name": "HTMLModel",
            "_view_count": null,
            "_view_module": "@jupyter-widgets/controls",
            "_view_module_version": "1.5.0",
            "_view_name": "HTMLView",
            "description": "",
            "description_tooltip": null,
            "layout": "IPY_MODEL_034468a7131e4689b151cb1d291b3ad3",
            "placeholder": "​",
            "style": "IPY_MODEL_40cc8223955c4678be25eb4d56f7b4f0",
            "value": " 100000/100000 [00:00&lt;00:00, 147384.78 examples/s]"
          }
        },
        "506db66fb7624a3688fa16e6a92e143e": {
          "model_module": "@jupyter-widgets/base",
          "model_name": "LayoutModel",
          "model_module_version": "1.2.0",
          "state": {
            "_model_module": "@jupyter-widgets/base",
            "_model_module_version": "1.2.0",
            "_model_name": "LayoutModel",
            "_view_count": null,
            "_view_module": "@jupyter-widgets/base",
            "_view_module_version": "1.2.0",
            "_view_name": "LayoutView",
            "align_content": null,
            "align_items": null,
            "align_self": null,
            "border": null,
            "bottom": null,
            "display": null,
            "flex": null,
            "flex_flow": null,
            "grid_area": null,
            "grid_auto_columns": null,
            "grid_auto_flow": null,
            "grid_auto_rows": null,
            "grid_column": null,
            "grid_gap": null,
            "grid_row": null,
            "grid_template_areas": null,
            "grid_template_columns": null,
            "grid_template_rows": null,
            "height": null,
            "justify_content": null,
            "justify_items": null,
            "left": null,
            "margin": null,
            "max_height": null,
            "max_width": null,
            "min_height": null,
            "min_width": null,
            "object_fit": null,
            "object_position": null,
            "order": null,
            "overflow": null,
            "overflow_x": null,
            "overflow_y": null,
            "padding": null,
            "right": null,
            "top": null,
            "visibility": null,
            "width": null
          }
        },
        "75f2fc23af5a44e9bd52569481633ad0": {
          "model_module": "@jupyter-widgets/base",
          "model_name": "LayoutModel",
          "model_module_version": "1.2.0",
          "state": {
            "_model_module": "@jupyter-widgets/base",
            "_model_module_version": "1.2.0",
            "_model_name": "LayoutModel",
            "_view_count": null,
            "_view_module": "@jupyter-widgets/base",
            "_view_module_version": "1.2.0",
            "_view_name": "LayoutView",
            "align_content": null,
            "align_items": null,
            "align_self": null,
            "border": null,
            "bottom": null,
            "display": null,
            "flex": null,
            "flex_flow": null,
            "grid_area": null,
            "grid_auto_columns": null,
            "grid_auto_flow": null,
            "grid_auto_rows": null,
            "grid_column": null,
            "grid_gap": null,
            "grid_row": null,
            "grid_template_areas": null,
            "grid_template_columns": null,
            "grid_template_rows": null,
            "height": null,
            "justify_content": null,
            "justify_items": null,
            "left": null,
            "margin": null,
            "max_height": null,
            "max_width": null,
            "min_height": null,
            "min_width": null,
            "object_fit": null,
            "object_position": null,
            "order": null,
            "overflow": null,
            "overflow_x": null,
            "overflow_y": null,
            "padding": null,
            "right": null,
            "top": null,
            "visibility": null,
            "width": null
          }
        },
        "985dd2565015474d88e2c20420216ad2": {
          "model_module": "@jupyter-widgets/controls",
          "model_name": "DescriptionStyleModel",
          "model_module_version": "1.5.0",
          "state": {
            "_model_module": "@jupyter-widgets/controls",
            "_model_module_version": "1.5.0",
            "_model_name": "DescriptionStyleModel",
            "_view_count": null,
            "_view_module": "@jupyter-widgets/base",
            "_view_module_version": "1.2.0",
            "_view_name": "StyleView",
            "description_width": ""
          }
        },
        "7b6f8db9166940fb8ffbb3d69fbc9e71": {
          "model_module": "@jupyter-widgets/base",
          "model_name": "LayoutModel",
          "model_module_version": "1.2.0",
          "state": {
            "_model_module": "@jupyter-widgets/base",
            "_model_module_version": "1.2.0",
            "_model_name": "LayoutModel",
            "_view_count": null,
            "_view_module": "@jupyter-widgets/base",
            "_view_module_version": "1.2.0",
            "_view_name": "LayoutView",
            "align_content": null,
            "align_items": null,
            "align_self": null,
            "border": null,
            "bottom": null,
            "display": null,
            "flex": null,
            "flex_flow": null,
            "grid_area": null,
            "grid_auto_columns": null,
            "grid_auto_flow": null,
            "grid_auto_rows": null,
            "grid_column": null,
            "grid_gap": null,
            "grid_row": null,
            "grid_template_areas": null,
            "grid_template_columns": null,
            "grid_template_rows": null,
            "height": null,
            "justify_content": null,
            "justify_items": null,
            "left": null,
            "margin": null,
            "max_height": null,
            "max_width": null,
            "min_height": null,
            "min_width": null,
            "object_fit": null,
            "object_position": null,
            "order": null,
            "overflow": null,
            "overflow_x": null,
            "overflow_y": null,
            "padding": null,
            "right": null,
            "top": null,
            "visibility": null,
            "width": null
          }
        },
        "e7428f109da84f4bb41bfc703b4c0569": {
          "model_module": "@jupyter-widgets/controls",
          "model_name": "ProgressStyleModel",
          "model_module_version": "1.5.0",
          "state": {
            "_model_module": "@jupyter-widgets/controls",
            "_model_module_version": "1.5.0",
            "_model_name": "ProgressStyleModel",
            "_view_count": null,
            "_view_module": "@jupyter-widgets/base",
            "_view_module_version": "1.2.0",
            "_view_name": "StyleView",
            "bar_color": null,
            "description_width": ""
          }
        },
        "034468a7131e4689b151cb1d291b3ad3": {
          "model_module": "@jupyter-widgets/base",
          "model_name": "LayoutModel",
          "model_module_version": "1.2.0",
          "state": {
            "_model_module": "@jupyter-widgets/base",
            "_model_module_version": "1.2.0",
            "_model_name": "LayoutModel",
            "_view_count": null,
            "_view_module": "@jupyter-widgets/base",
            "_view_module_version": "1.2.0",
            "_view_name": "LayoutView",
            "align_content": null,
            "align_items": null,
            "align_self": null,
            "border": null,
            "bottom": null,
            "display": null,
            "flex": null,
            "flex_flow": null,
            "grid_area": null,
            "grid_auto_columns": null,
            "grid_auto_flow": null,
            "grid_auto_rows": null,
            "grid_column": null,
            "grid_gap": null,
            "grid_row": null,
            "grid_template_areas": null,
            "grid_template_columns": null,
            "grid_template_rows": null,
            "height": null,
            "justify_content": null,
            "justify_items": null,
            "left": null,
            "margin": null,
            "max_height": null,
            "max_width": null,
            "min_height": null,
            "min_width": null,
            "object_fit": null,
            "object_position": null,
            "order": null,
            "overflow": null,
            "overflow_x": null,
            "overflow_y": null,
            "padding": null,
            "right": null,
            "top": null,
            "visibility": null,
            "width": null
          }
        },
        "40cc8223955c4678be25eb4d56f7b4f0": {
          "model_module": "@jupyter-widgets/controls",
          "model_name": "DescriptionStyleModel",
          "model_module_version": "1.5.0",
          "state": {
            "_model_module": "@jupyter-widgets/controls",
            "_model_module_version": "1.5.0",
            "_model_name": "DescriptionStyleModel",
            "_view_count": null,
            "_view_module": "@jupyter-widgets/base",
            "_view_module_version": "1.2.0",
            "_view_name": "StyleView",
            "description_width": ""
          }
        },
        "ca10cd85409849029c4f78af6fb6d2ee": {
          "model_module": "@jupyter-widgets/controls",
          "model_name": "HBoxModel",
          "model_module_version": "1.5.0",
          "state": {
            "_dom_classes": [],
            "_model_module": "@jupyter-widgets/controls",
            "_model_module_version": "1.5.0",
            "_model_name": "HBoxModel",
            "_view_count": null,
            "_view_module": "@jupyter-widgets/controls",
            "_view_module_version": "1.5.0",
            "_view_name": "HBoxView",
            "box_style": "",
            "children": [
              "IPY_MODEL_b5ad4d4531694dd4bdc2e7a44236601d",
              "IPY_MODEL_96883af34e3748dca97d7c94757c0f41",
              "IPY_MODEL_f15ddf920f774e688927a524648479b7"
            ],
            "layout": "IPY_MODEL_72a752c47159452c82c4de9612056243"
          }
        },
        "b5ad4d4531694dd4bdc2e7a44236601d": {
          "model_module": "@jupyter-widgets/controls",
          "model_name": "HTMLModel",
          "model_module_version": "1.5.0",
          "state": {
            "_dom_classes": [],
            "_model_module": "@jupyter-widgets/controls",
            "_model_module_version": "1.5.0",
            "_model_name": "HTMLModel",
            "_view_count": null,
            "_view_module": "@jupyter-widgets/controls",
            "_view_module_version": "1.5.0",
            "_view_name": "HTMLView",
            "description": "",
            "description_tooltip": null,
            "layout": "IPY_MODEL_bc9d4cb3a09143d1abb0284c172126a6",
            "placeholder": "​",
            "style": "IPY_MODEL_1d0aa68da1454e699a98b1384a496f8f",
            "value": "Generating valid split: 100%"
          }
        },
        "96883af34e3748dca97d7c94757c0f41": {
          "model_module": "@jupyter-widgets/controls",
          "model_name": "FloatProgressModel",
          "model_module_version": "1.5.0",
          "state": {
            "_dom_classes": [],
            "_model_module": "@jupyter-widgets/controls",
            "_model_module_version": "1.5.0",
            "_model_name": "FloatProgressModel",
            "_view_count": null,
            "_view_module": "@jupyter-widgets/controls",
            "_view_module_version": "1.5.0",
            "_view_name": "ProgressView",
            "bar_style": "success",
            "description": "",
            "description_tooltip": null,
            "layout": "IPY_MODEL_fae1516c9bf648aa86e63eec6c617ab4",
            "max": 10000,
            "min": 0,
            "orientation": "horizontal",
            "style": "IPY_MODEL_807768741e13476fbf805af2246d2cb8",
            "value": 10000
          }
        },
        "f15ddf920f774e688927a524648479b7": {
          "model_module": "@jupyter-widgets/controls",
          "model_name": "HTMLModel",
          "model_module_version": "1.5.0",
          "state": {
            "_dom_classes": [],
            "_model_module": "@jupyter-widgets/controls",
            "_model_module_version": "1.5.0",
            "_model_name": "HTMLModel",
            "_view_count": null,
            "_view_module": "@jupyter-widgets/controls",
            "_view_module_version": "1.5.0",
            "_view_name": "HTMLView",
            "description": "",
            "description_tooltip": null,
            "layout": "IPY_MODEL_9d23c75bcd4f4d14a49862e4251656a6",
            "placeholder": "​",
            "style": "IPY_MODEL_23d8901c8c464f6796d3a3243c9a88a9",
            "value": " 10000/10000 [00:00&lt;00:00, 109539.31 examples/s]"
          }
        },
        "72a752c47159452c82c4de9612056243": {
          "model_module": "@jupyter-widgets/base",
          "model_name": "LayoutModel",
          "model_module_version": "1.2.0",
          "state": {
            "_model_module": "@jupyter-widgets/base",
            "_model_module_version": "1.2.0",
            "_model_name": "LayoutModel",
            "_view_count": null,
            "_view_module": "@jupyter-widgets/base",
            "_view_module_version": "1.2.0",
            "_view_name": "LayoutView",
            "align_content": null,
            "align_items": null,
            "align_self": null,
            "border": null,
            "bottom": null,
            "display": null,
            "flex": null,
            "flex_flow": null,
            "grid_area": null,
            "grid_auto_columns": null,
            "grid_auto_flow": null,
            "grid_auto_rows": null,
            "grid_column": null,
            "grid_gap": null,
            "grid_row": null,
            "grid_template_areas": null,
            "grid_template_columns": null,
            "grid_template_rows": null,
            "height": null,
            "justify_content": null,
            "justify_items": null,
            "left": null,
            "margin": null,
            "max_height": null,
            "max_width": null,
            "min_height": null,
            "min_width": null,
            "object_fit": null,
            "object_position": null,
            "order": null,
            "overflow": null,
            "overflow_x": null,
            "overflow_y": null,
            "padding": null,
            "right": null,
            "top": null,
            "visibility": null,
            "width": null
          }
        },
        "bc9d4cb3a09143d1abb0284c172126a6": {
          "model_module": "@jupyter-widgets/base",
          "model_name": "LayoutModel",
          "model_module_version": "1.2.0",
          "state": {
            "_model_module": "@jupyter-widgets/base",
            "_model_module_version": "1.2.0",
            "_model_name": "LayoutModel",
            "_view_count": null,
            "_view_module": "@jupyter-widgets/base",
            "_view_module_version": "1.2.0",
            "_view_name": "LayoutView",
            "align_content": null,
            "align_items": null,
            "align_self": null,
            "border": null,
            "bottom": null,
            "display": null,
            "flex": null,
            "flex_flow": null,
            "grid_area": null,
            "grid_auto_columns": null,
            "grid_auto_flow": null,
            "grid_auto_rows": null,
            "grid_column": null,
            "grid_gap": null,
            "grid_row": null,
            "grid_template_areas": null,
            "grid_template_columns": null,
            "grid_template_rows": null,
            "height": null,
            "justify_content": null,
            "justify_items": null,
            "left": null,
            "margin": null,
            "max_height": null,
            "max_width": null,
            "min_height": null,
            "min_width": null,
            "object_fit": null,
            "object_position": null,
            "order": null,
            "overflow": null,
            "overflow_x": null,
            "overflow_y": null,
            "padding": null,
            "right": null,
            "top": null,
            "visibility": null,
            "width": null
          }
        },
        "1d0aa68da1454e699a98b1384a496f8f": {
          "model_module": "@jupyter-widgets/controls",
          "model_name": "DescriptionStyleModel",
          "model_module_version": "1.5.0",
          "state": {
            "_model_module": "@jupyter-widgets/controls",
            "_model_module_version": "1.5.0",
            "_model_name": "DescriptionStyleModel",
            "_view_count": null,
            "_view_module": "@jupyter-widgets/base",
            "_view_module_version": "1.2.0",
            "_view_name": "StyleView",
            "description_width": ""
          }
        },
        "fae1516c9bf648aa86e63eec6c617ab4": {
          "model_module": "@jupyter-widgets/base",
          "model_name": "LayoutModel",
          "model_module_version": "1.2.0",
          "state": {
            "_model_module": "@jupyter-widgets/base",
            "_model_module_version": "1.2.0",
            "_model_name": "LayoutModel",
            "_view_count": null,
            "_view_module": "@jupyter-widgets/base",
            "_view_module_version": "1.2.0",
            "_view_name": "LayoutView",
            "align_content": null,
            "align_items": null,
            "align_self": null,
            "border": null,
            "bottom": null,
            "display": null,
            "flex": null,
            "flex_flow": null,
            "grid_area": null,
            "grid_auto_columns": null,
            "grid_auto_flow": null,
            "grid_auto_rows": null,
            "grid_column": null,
            "grid_gap": null,
            "grid_row": null,
            "grid_template_areas": null,
            "grid_template_columns": null,
            "grid_template_rows": null,
            "height": null,
            "justify_content": null,
            "justify_items": null,
            "left": null,
            "margin": null,
            "max_height": null,
            "max_width": null,
            "min_height": null,
            "min_width": null,
            "object_fit": null,
            "object_position": null,
            "order": null,
            "overflow": null,
            "overflow_x": null,
            "overflow_y": null,
            "padding": null,
            "right": null,
            "top": null,
            "visibility": null,
            "width": null
          }
        },
        "807768741e13476fbf805af2246d2cb8": {
          "model_module": "@jupyter-widgets/controls",
          "model_name": "ProgressStyleModel",
          "model_module_version": "1.5.0",
          "state": {
            "_model_module": "@jupyter-widgets/controls",
            "_model_module_version": "1.5.0",
            "_model_name": "ProgressStyleModel",
            "_view_count": null,
            "_view_module": "@jupyter-widgets/base",
            "_view_module_version": "1.2.0",
            "_view_name": "StyleView",
            "bar_color": null,
            "description_width": ""
          }
        },
        "9d23c75bcd4f4d14a49862e4251656a6": {
          "model_module": "@jupyter-widgets/base",
          "model_name": "LayoutModel",
          "model_module_version": "1.2.0",
          "state": {
            "_model_module": "@jupyter-widgets/base",
            "_model_module_version": "1.2.0",
            "_model_name": "LayoutModel",
            "_view_count": null,
            "_view_module": "@jupyter-widgets/base",
            "_view_module_version": "1.2.0",
            "_view_name": "LayoutView",
            "align_content": null,
            "align_items": null,
            "align_self": null,
            "border": null,
            "bottom": null,
            "display": null,
            "flex": null,
            "flex_flow": null,
            "grid_area": null,
            "grid_auto_columns": null,
            "grid_auto_flow": null,
            "grid_auto_rows": null,
            "grid_column": null,
            "grid_gap": null,
            "grid_row": null,
            "grid_template_areas": null,
            "grid_template_columns": null,
            "grid_template_rows": null,
            "height": null,
            "justify_content": null,
            "justify_items": null,
            "left": null,
            "margin": null,
            "max_height": null,
            "max_width": null,
            "min_height": null,
            "min_width": null,
            "object_fit": null,
            "object_position": null,
            "order": null,
            "overflow": null,
            "overflow_x": null,
            "overflow_y": null,
            "padding": null,
            "right": null,
            "top": null,
            "visibility": null,
            "width": null
          }
        },
        "23d8901c8c464f6796d3a3243c9a88a9": {
          "model_module": "@jupyter-widgets/controls",
          "model_name": "DescriptionStyleModel",
          "model_module_version": "1.5.0",
          "state": {
            "_model_module": "@jupyter-widgets/controls",
            "_model_module_version": "1.5.0",
            "_model_name": "DescriptionStyleModel",
            "_view_count": null,
            "_view_module": "@jupyter-widgets/base",
            "_view_module_version": "1.2.0",
            "_view_name": "StyleView",
            "description_width": ""
          }
        },
        "b5faae1ebdb2479eb95e621667f6ef8a": {
          "model_module": "@jupyter-widgets/controls",
          "model_name": "HBoxModel",
          "model_module_version": "1.5.0",
          "state": {
            "_dom_classes": [],
            "_model_module": "@jupyter-widgets/controls",
            "_model_module_version": "1.5.0",
            "_model_name": "HBoxModel",
            "_view_count": null,
            "_view_module": "@jupyter-widgets/controls",
            "_view_module_version": "1.5.0",
            "_view_name": "HBoxView",
            "box_style": "",
            "children": [
              "IPY_MODEL_0d0b58c108a144c6a930a2b272181f98",
              "IPY_MODEL_374617fa149945198d91d1279995d46a",
              "IPY_MODEL_03d7544cedf14f85a8cffcf3081e1315"
            ],
            "layout": "IPY_MODEL_dd91e5b66fb6495cbe61f2b0fd4d30f7"
          }
        },
        "0d0b58c108a144c6a930a2b272181f98": {
          "model_module": "@jupyter-widgets/controls",
          "model_name": "HTMLModel",
          "model_module_version": "1.5.0",
          "state": {
            "_dom_classes": [],
            "_model_module": "@jupyter-widgets/controls",
            "_model_module_version": "1.5.0",
            "_model_name": "HTMLModel",
            "_view_count": null,
            "_view_module": "@jupyter-widgets/controls",
            "_view_module_version": "1.5.0",
            "_view_name": "HTMLView",
            "description": "",
            "description_tooltip": null,
            "layout": "IPY_MODEL_ec8402c77cc54ea6b915b6e174c27607",
            "placeholder": "​",
            "style": "IPY_MODEL_50f76d66dfba4ff5a45a07ce71905791",
            "value": "preprocessor_config.json: 100%"
          }
        },
        "374617fa149945198d91d1279995d46a": {
          "model_module": "@jupyter-widgets/controls",
          "model_name": "FloatProgressModel",
          "model_module_version": "1.5.0",
          "state": {
            "_dom_classes": [],
            "_model_module": "@jupyter-widgets/controls",
            "_model_module_version": "1.5.0",
            "_model_name": "FloatProgressModel",
            "_view_count": null,
            "_view_module": "@jupyter-widgets/controls",
            "_view_module_version": "1.5.0",
            "_view_name": "ProgressView",
            "bar_style": "success",
            "description": "",
            "description_tooltip": null,
            "layout": "IPY_MODEL_070620dd8cbf4f9f981e0df41f7af8d1",
            "max": 266,
            "min": 0,
            "orientation": "horizontal",
            "style": "IPY_MODEL_17cc1161e41d4bfc96f01d8e5e278fa9",
            "value": 266
          }
        },
        "03d7544cedf14f85a8cffcf3081e1315": {
          "model_module": "@jupyter-widgets/controls",
          "model_name": "HTMLModel",
          "model_module_version": "1.5.0",
          "state": {
            "_dom_classes": [],
            "_model_module": "@jupyter-widgets/controls",
            "_model_module_version": "1.5.0",
            "_model_name": "HTMLModel",
            "_view_count": null,
            "_view_module": "@jupyter-widgets/controls",
            "_view_module_version": "1.5.0",
            "_view_name": "HTMLView",
            "description": "",
            "description_tooltip": null,
            "layout": "IPY_MODEL_c99a445515b54109a2a9fd317d976486",
            "placeholder": "​",
            "style": "IPY_MODEL_b218d1a7f51d4d89b3eb66a52aabdb0c",
            "value": " 266/266 [00:00&lt;00:00, 16.3kB/s]"
          }
        },
        "dd91e5b66fb6495cbe61f2b0fd4d30f7": {
          "model_module": "@jupyter-widgets/base",
          "model_name": "LayoutModel",
          "model_module_version": "1.2.0",
          "state": {
            "_model_module": "@jupyter-widgets/base",
            "_model_module_version": "1.2.0",
            "_model_name": "LayoutModel",
            "_view_count": null,
            "_view_module": "@jupyter-widgets/base",
            "_view_module_version": "1.2.0",
            "_view_name": "LayoutView",
            "align_content": null,
            "align_items": null,
            "align_self": null,
            "border": null,
            "bottom": null,
            "display": null,
            "flex": null,
            "flex_flow": null,
            "grid_area": null,
            "grid_auto_columns": null,
            "grid_auto_flow": null,
            "grid_auto_rows": null,
            "grid_column": null,
            "grid_gap": null,
            "grid_row": null,
            "grid_template_areas": null,
            "grid_template_columns": null,
            "grid_template_rows": null,
            "height": null,
            "justify_content": null,
            "justify_items": null,
            "left": null,
            "margin": null,
            "max_height": null,
            "max_width": null,
            "min_height": null,
            "min_width": null,
            "object_fit": null,
            "object_position": null,
            "order": null,
            "overflow": null,
            "overflow_x": null,
            "overflow_y": null,
            "padding": null,
            "right": null,
            "top": null,
            "visibility": null,
            "width": null
          }
        },
        "ec8402c77cc54ea6b915b6e174c27607": {
          "model_module": "@jupyter-widgets/base",
          "model_name": "LayoutModel",
          "model_module_version": "1.2.0",
          "state": {
            "_model_module": "@jupyter-widgets/base",
            "_model_module_version": "1.2.0",
            "_model_name": "LayoutModel",
            "_view_count": null,
            "_view_module": "@jupyter-widgets/base",
            "_view_module_version": "1.2.0",
            "_view_name": "LayoutView",
            "align_content": null,
            "align_items": null,
            "align_self": null,
            "border": null,
            "bottom": null,
            "display": null,
            "flex": null,
            "flex_flow": null,
            "grid_area": null,
            "grid_auto_columns": null,
            "grid_auto_flow": null,
            "grid_auto_rows": null,
            "grid_column": null,
            "grid_gap": null,
            "grid_row": null,
            "grid_template_areas": null,
            "grid_template_columns": null,
            "grid_template_rows": null,
            "height": null,
            "justify_content": null,
            "justify_items": null,
            "left": null,
            "margin": null,
            "max_height": null,
            "max_width": null,
            "min_height": null,
            "min_width": null,
            "object_fit": null,
            "object_position": null,
            "order": null,
            "overflow": null,
            "overflow_x": null,
            "overflow_y": null,
            "padding": null,
            "right": null,
            "top": null,
            "visibility": null,
            "width": null
          }
        },
        "50f76d66dfba4ff5a45a07ce71905791": {
          "model_module": "@jupyter-widgets/controls",
          "model_name": "DescriptionStyleModel",
          "model_module_version": "1.5.0",
          "state": {
            "_model_module": "@jupyter-widgets/controls",
            "_model_module_version": "1.5.0",
            "_model_name": "DescriptionStyleModel",
            "_view_count": null,
            "_view_module": "@jupyter-widgets/base",
            "_view_module_version": "1.2.0",
            "_view_name": "StyleView",
            "description_width": ""
          }
        },
        "070620dd8cbf4f9f981e0df41f7af8d1": {
          "model_module": "@jupyter-widgets/base",
          "model_name": "LayoutModel",
          "model_module_version": "1.2.0",
          "state": {
            "_model_module": "@jupyter-widgets/base",
            "_model_module_version": "1.2.0",
            "_model_name": "LayoutModel",
            "_view_count": null,
            "_view_module": "@jupyter-widgets/base",
            "_view_module_version": "1.2.0",
            "_view_name": "LayoutView",
            "align_content": null,
            "align_items": null,
            "align_self": null,
            "border": null,
            "bottom": null,
            "display": null,
            "flex": null,
            "flex_flow": null,
            "grid_area": null,
            "grid_auto_columns": null,
            "grid_auto_flow": null,
            "grid_auto_rows": null,
            "grid_column": null,
            "grid_gap": null,
            "grid_row": null,
            "grid_template_areas": null,
            "grid_template_columns": null,
            "grid_template_rows": null,
            "height": null,
            "justify_content": null,
            "justify_items": null,
            "left": null,
            "margin": null,
            "max_height": null,
            "max_width": null,
            "min_height": null,
            "min_width": null,
            "object_fit": null,
            "object_position": null,
            "order": null,
            "overflow": null,
            "overflow_x": null,
            "overflow_y": null,
            "padding": null,
            "right": null,
            "top": null,
            "visibility": null,
            "width": null
          }
        },
        "17cc1161e41d4bfc96f01d8e5e278fa9": {
          "model_module": "@jupyter-widgets/controls",
          "model_name": "ProgressStyleModel",
          "model_module_version": "1.5.0",
          "state": {
            "_model_module": "@jupyter-widgets/controls",
            "_model_module_version": "1.5.0",
            "_model_name": "ProgressStyleModel",
            "_view_count": null,
            "_view_module": "@jupyter-widgets/base",
            "_view_module_version": "1.2.0",
            "_view_name": "StyleView",
            "bar_color": null,
            "description_width": ""
          }
        },
        "c99a445515b54109a2a9fd317d976486": {
          "model_module": "@jupyter-widgets/base",
          "model_name": "LayoutModel",
          "model_module_version": "1.2.0",
          "state": {
            "_model_module": "@jupyter-widgets/base",
            "_model_module_version": "1.2.0",
            "_model_name": "LayoutModel",
            "_view_count": null,
            "_view_module": "@jupyter-widgets/base",
            "_view_module_version": "1.2.0",
            "_view_name": "LayoutView",
            "align_content": null,
            "align_items": null,
            "align_self": null,
            "border": null,
            "bottom": null,
            "display": null,
            "flex": null,
            "flex_flow": null,
            "grid_area": null,
            "grid_auto_columns": null,
            "grid_auto_flow": null,
            "grid_auto_rows": null,
            "grid_column": null,
            "grid_gap": null,
            "grid_row": null,
            "grid_template_areas": null,
            "grid_template_columns": null,
            "grid_template_rows": null,
            "height": null,
            "justify_content": null,
            "justify_items": null,
            "left": null,
            "margin": null,
            "max_height": null,
            "max_width": null,
            "min_height": null,
            "min_width": null,
            "object_fit": null,
            "object_position": null,
            "order": null,
            "overflow": null,
            "overflow_x": null,
            "overflow_y": null,
            "padding": null,
            "right": null,
            "top": null,
            "visibility": null,
            "width": null
          }
        },
        "b218d1a7f51d4d89b3eb66a52aabdb0c": {
          "model_module": "@jupyter-widgets/controls",
          "model_name": "DescriptionStyleModel",
          "model_module_version": "1.5.0",
          "state": {
            "_model_module": "@jupyter-widgets/controls",
            "_model_module_version": "1.5.0",
            "_model_name": "DescriptionStyleModel",
            "_view_count": null,
            "_view_module": "@jupyter-widgets/base",
            "_view_module_version": "1.2.0",
            "_view_name": "StyleView",
            "description_width": ""
          }
        }
      }
    }
  },
  "nbformat": 4,
  "nbformat_minor": 0
}